{
 "cells": [
  {
   "cell_type": "markdown",
   "id": "4fbaf86b",
   "metadata": {},
   "source": [
    "## Problem Set 0  Solutions\n",
    "### Programming for Economists Autumn 2025: Classes 5 & 9\n",
    "**Matias BF Hall**"
   ]
  },
  {
   "cell_type": "markdown",
   "id": "cbc770c8",
   "metadata": {},
   "source": [
    "## Contents"
   ]
  },
  {
   "cell_type": "markdown",
   "id": "db21e2cd",
   "metadata": {},
   "source": [
    "1. [Task 1: Installation](#Task-1:-Installation)\n",
    "2. [Task 2: Understanding code](#Task-2:-Understanding-code)\n",
    "    * [slicing](#slicing)\n",
    "    * [references](#references)\n",
    "    * [loops - breaks](#loops-breaks)\n",
    "    * [conditionals](#conditionals)\n",
    "    * [functions and scope](#functions-and-scope)\n",
    "    * [numpy](#numpy)\n",
    "    * [classes](#classes)\n",
    "3. [Task 3: Try Copilot](#Task-3:-Try-Copilot)"
   ]
  },
  {
   "cell_type": "markdown",
   "id": "a5626967",
   "metadata": {},
   "source": [
    "## Task 1: Installation"
   ]
  },
  {
   "cell_type": "markdown",
   "id": "80144a37",
   "metadata": {},
   "source": [
    "Easiest way to create a jupyter notebook in VSCode is by pressing (Ctrl/Cmd+Shift+P) and running the command \"Create: New Jupyter Notebook\""
   ]
  },
  {
   "cell_type": "code",
   "execution_count": 12,
   "id": "b93151bd",
   "metadata": {},
   "outputs": [
    {
     "name": "stdout",
     "output_type": "stream",
     "text": [
      "3\n"
     ]
    }
   ],
   "source": [
    "a = 1\n",
    "b = 2\n",
    "c = a + b\n",
    "print(c)\n",
    "# 3"
   ]
  },
  {
   "cell_type": "markdown",
   "id": "7705441a",
   "metadata": {},
   "source": [
    "Follow the guide for using Git here: https://sites.google.com/view/numeconcph-progecon/guides/git\n",
    "And find tips for VSCode here: https://sites.google.com/view/numeconcph-progecon/guides/vscode"
   ]
  },
  {
   "cell_type": "markdown",
   "id": "02020d1e",
   "metadata": {},
   "source": [
    "## Task 2: Understanding code"
   ]
  },
  {
   "cell_type": "markdown",
   "id": "285afa11",
   "metadata": {},
   "source": [
    "#### slicing"
   ]
  },
  {
   "cell_type": "code",
   "execution_count": 2,
   "id": "866ae0bf",
   "metadata": {},
   "outputs": [
    {
     "name": "stdout",
     "output_type": "stream",
     "text": [
      "[0, 1]\n",
      "[2, 3, 4, 5]\n"
     ]
    }
   ],
   "source": [
    "x = [0 ,1 ,2 ,3 ,4 ,5]\n",
    "#defines a list x with six elements\n",
    "\n",
    "print (x [:2])\n",
    "# prints a slice of x - the first two elements in x\n",
    "# [0,1]\n",
    "print (x [2:])\n",
    "# prints a slice of x - all elements from index 2 and onwards\n",
    "# [2,3,4,5]"
   ]
  },
  {
   "cell_type": "markdown",
   "id": "6dc40ae9",
   "metadata": {},
   "source": [
    "#### references"
   ]
  },
  {
   "cell_type": "code",
   "execution_count": 3,
   "id": "65457e86",
   "metadata": {},
   "outputs": [
    {
     "name": "stdout",
     "output_type": "stream",
     "text": [
      "[1, 2, 4]\n",
      "[1, 2, 3]\n"
     ]
    }
   ],
   "source": [
    "x = [1 ,2 ,3]\n",
    "y = x\n",
    "# y is now a reference to the same list object as x\n",
    "# changing y will also change x\n",
    "y[ -1] = 4\n",
    "print (x)\n",
    "\n",
    "# y and x are references to the same object in memory so changing y also changes x\n",
    "# [1,2,4]\n",
    "\n",
    "# to create a copy of the list x instead of a reference, use the copy() method\n",
    "x = [1 ,2 ,3]\n",
    "y = x.copy()\n",
    "y[ -1] = 4\n",
    "print (x)"
   ]
  },
  {
   "cell_type": "markdown",
   "id": "74663214",
   "metadata": {},
   "source": [
    "##### loops - break"
   ]
  },
  {
   "cell_type": "code",
   "execution_count": 4,
   "id": "70f9b9b3",
   "metadata": {},
   "outputs": [
    {
     "name": "stdout",
     "output_type": "stream",
     "text": [
      "0\n",
      "1\n"
     ]
    }
   ],
   "source": [
    "for i in range (5) :\n",
    "# iterate through numbers 0 to 4 as range starts at 0 and ends at n-1\n",
    "    if i >= 2: break\n",
    "    print (i)\n",
    "\n",
    "# prints all numbers less than 2 because of break which exits the loop when i is 2 or greater\n",
    "# 0\n",
    "# 1"
   ]
  },
  {
   "cell_type": "code",
   "execution_count": 5,
   "id": "72e2facb",
   "metadata": {},
   "outputs": [
    {
     "name": "stdout",
     "output_type": "stream",
     "text": [
      "0\n",
      "1\n",
      "3\n",
      "4\n"
     ]
    }
   ],
   "source": [
    "for i in range (5) :\n",
    "    if i == 2: continue\n",
    "    print (i)\n",
    "\n",
    "# does not print anything when i == 2 because of continue which skips the rest of the loop iteration\n",
    "# 0\n",
    "# 1\n",
    "# 3\n",
    "# 4"
   ]
  },
  {
   "cell_type": "markdown",
   "id": "5a621070",
   "metadata": {},
   "source": [
    "#### conditionals\n",
    "[Contents](#Contents)"
   ]
  },
  {
   "cell_type": "code",
   "execution_count": 6,
   "id": "afe2bc5a",
   "metadata": {},
   "outputs": [
    {
     "name": "stdout",
     "output_type": "stream",
     "text": [
      "just right\n"
     ]
    }
   ],
   "source": [
    "x = 3\n",
    "if x > 3:\n",
    "    print (\"too big\")\n",
    "elif x < 1:\n",
    "    print (\"too small\")\n",
    "else :\n",
    "    print (\"just right\")\n",
    "# using conditionals - if, elif and else to check conditions on x\n",
    "# always use this order - if, elif, else\n",
    "# if and elif can be used multiple times but else can only be used once as it ends the conditional chain\n",
    "# else is optional and will always end the conditional chain and be executed if none of the preceding if or elif conditions are true\n",
    "# if any statement is true, the conditional chain ends and the corresponding block is executed\n",
    "# prints \"just right\" because x is neither greater than 3 nor less than 1"
   ]
  },
  {
   "cell_type": "markdown",
   "id": "eaaf5d52",
   "metadata": {},
   "source": [
    "#### functions and scope"
   ]
  },
  {
   "cell_type": "code",
   "execution_count": 7,
   "id": "71044ab9",
   "metadata": {},
   "outputs": [
    {
     "name": "stdout",
     "output_type": "stream",
     "text": [
      "2\n",
      "2\n",
      "3\n",
      "2\n",
      "3\n"
     ]
    }
   ],
   "source": [
    "a = 1\n",
    "def f(x):\n",
    "\treturn x + a  # a is global variable\n",
    "\n",
    "def g(x, a=1):\n",
    "\treturn x + a  # a is local variable\n",
    "# using def to define functions f() and g()\n",
    "print(f(1))\n",
    "print(g(1))\n",
    "# both will return 2 as f(1) = 1 + 1 and g(1) = 1 + 1 as both the global and local a is 1\n",
    "a = 2\n",
    "print(f(1))\n",
    "# since f() uses the global variable a, it will return 3 as f(1) = 1 + 2 as a is now 2\n",
    "print(g(1))\n",
    "# since g() uses its local variable a, it will return 2 as g(1) = 1 + 1 as a is still 1\n",
    "\n",
    "#Bonus: you can override the local variable a in g() by passing a different value when calling the function\n",
    "print(g(1, a=2))\n",
    "# this will return 3 as g(1, a=2) = 1 + 2 as the local variable a is now overridden to be 2"
   ]
  },
  {
   "cell_type": "markdown",
   "id": "c98148da",
   "metadata": {},
   "source": [
    "#### numpy"
   ]
  },
  {
   "cell_type": "code",
   "execution_count": 8,
   "id": "9ac00076",
   "metadata": {},
   "outputs": [
    {
     "name": "stdout",
     "output_type": "stream",
     "text": [
      "[2 3 4]\n",
      "[3 4 5]\n",
      "[3 4 5]\n"
     ]
    }
   ],
   "source": [
    "import numpy as np\n",
    "x = np.array([1, 2, 3])\n",
    "y = x\n",
    "x += 1\n",
    "print(y)\n",
    "# y is changed because x and y reference the same object in memory and x is modified\n",
    "# [2 3 4]\n",
    "x[:] = x + 1\n",
    "print(y)\n",
    "# y is changed because x and y reference the same object in memory and x is modified\n",
    "# [3 4 5]\n",
    "x = x + 1\n",
    "print(y)\n",
    "# y is not changed because x now references a new object in memory\n",
    "# [3 4 5]"
   ]
  },
  {
   "cell_type": "code",
   "execution_count": 9,
   "id": "3a88bc05",
   "metadata": {},
   "outputs": [
    {
     "name": "stdout",
     "output_type": "stream",
     "text": [
      "Help on built-in function array in module numpy:\n",
      "\n",
      "array(...)\n",
      "    array(object, dtype=None, *, copy=True, order='K', subok=False, ndmin=0,\n",
      "          like=None)\n",
      "\n",
      "    Create an array.\n",
      "\n",
      "    Parameters\n",
      "    ----------\n",
      "    object : array_like\n",
      "        An array, any object exposing the array interface, an object whose\n",
      "        ``__array__`` method returns an array, or any (nested) sequence.\n",
      "        If object is a scalar, a 0-dimensional array containing object is\n",
      "        returned.\n",
      "    dtype : data-type, optional\n",
      "        The desired data-type for the array. If not given, NumPy will try to use\n",
      "        a default ``dtype`` that can represent the values (by applying promotion\n",
      "        rules when necessary.)\n",
      "    copy : bool, optional\n",
      "        If ``True`` (default), then the array data is copied. If ``None``,\n",
      "        a copy will only be made if ``__array__`` returns a copy, if obj is\n",
      "        a nested sequence, or if a copy is needed to satisfy any of the other\n",
      "        requirements (``dtype``, ``order``, etc.). Note that any copy of\n",
      "        the data is shallow, i.e., for arrays with object dtype, the new\n",
      "        array will point to the same objects. See Examples for `ndarray.copy`.\n",
      "        For ``False`` it raises a ``ValueError`` if a copy cannot be avoided.\n",
      "        Default: ``True``.\n",
      "    order : {'K', 'A', 'C', 'F'}, optional\n",
      "        Specify the memory layout of the array. If object is not an array, the\n",
      "        newly created array will be in C order (row major) unless 'F' is\n",
      "        specified, in which case it will be in Fortran order (column major).\n",
      "        If object is an array the following holds.\n",
      "\n",
      "        ===== ========= ===================================================\n",
      "        order  no copy                     copy=True\n",
      "        ===== ========= ===================================================\n",
      "        'K'   unchanged F & C order preserved, otherwise most similar order\n",
      "        'A'   unchanged F order if input is F and not C, otherwise C order\n",
      "        'C'   C order   C order\n",
      "        'F'   F order   F order\n",
      "        ===== ========= ===================================================\n",
      "\n",
      "        When ``copy=None`` and a copy is made for other reasons, the result is\n",
      "        the same as if ``copy=True``, with some exceptions for 'A', see the\n",
      "        Notes section. The default order is 'K'.\n",
      "    subok : bool, optional\n",
      "        If True, then sub-classes will be passed-through, otherwise\n",
      "        the returned array will be forced to be a base-class array (default).\n",
      "    ndmin : int, optional\n",
      "        Specifies the minimum number of dimensions that the resulting\n",
      "        array should have.  Ones will be prepended to the shape as\n",
      "        needed to meet this requirement.\n",
      "    like : array_like, optional\n",
      "        Reference object to allow the creation of arrays which are not\n",
      "        NumPy arrays. If an array-like passed in as ``like`` supports\n",
      "        the ``__array_function__`` protocol, the result will be defined\n",
      "        by it. In this case, it ensures the creation of an array object\n",
      "        compatible with that passed in via this argument.\n",
      "\n",
      "        .. versionadded:: 1.20.0\n",
      "\n",
      "    Returns\n",
      "    -------\n",
      "    out : ndarray\n",
      "        An array object satisfying the specified requirements.\n",
      "\n",
      "    See Also\n",
      "    --------\n",
      "    empty_like : Return an empty array with shape and type of input.\n",
      "    ones_like : Return an array of ones with shape and type of input.\n",
      "    zeros_like : Return an array of zeros with shape and type of input.\n",
      "    full_like : Return a new array with shape of input filled with value.\n",
      "    empty : Return a new uninitialized array.\n",
      "    ones : Return a new array setting values to one.\n",
      "    zeros : Return a new array setting values to zero.\n",
      "    full : Return a new array of given shape filled with value.\n",
      "    copy: Return an array copy of the given object.\n",
      "\n",
      "\n",
      "    Notes\n",
      "    -----\n",
      "    When order is 'A' and ``object`` is an array in neither 'C' nor 'F' order,\n",
      "    and a copy is forced by a change in dtype, then the order of the result is\n",
      "    not necessarily 'C' as expected. This is likely a bug.\n",
      "\n",
      "    Examples\n",
      "    --------\n",
      "    >>> import numpy as np\n",
      "    >>> np.array([1, 2, 3])\n",
      "    array([1, 2, 3])\n",
      "\n",
      "    Upcasting:\n",
      "\n",
      "    >>> np.array([1, 2, 3.0])\n",
      "    array([ 1.,  2.,  3.])\n",
      "\n",
      "    More than one dimension:\n",
      "\n",
      "    >>> np.array([[1, 2], [3, 4]])\n",
      "    array([[1, 2],\n",
      "           [3, 4]])\n",
      "\n",
      "    Minimum dimensions 2:\n",
      "\n",
      "    >>> np.array([1, 2, 3], ndmin=2)\n",
      "    array([[1, 2, 3]])\n",
      "\n",
      "    Type provided:\n",
      "\n",
      "    >>> np.array([1, 2, 3], dtype=complex)\n",
      "    array([ 1.+0.j,  2.+0.j,  3.+0.j])\n",
      "\n",
      "    Data-type consisting of more than one element:\n",
      "\n",
      "    >>> x = np.array([(1,2),(3,4)],dtype=[('a','<i4'),('b','<i4')])\n",
      "    >>> x['a']\n",
      "    array([1, 3], dtype=int32)\n",
      "\n",
      "    Creating an array from sub-classes:\n",
      "\n",
      "    >>> np.array(np.asmatrix('1 2; 3 4'))\n",
      "    array([[1, 2],\n",
      "           [3, 4]])\n",
      "\n",
      "    >>> np.array(np.asmatrix('1 2; 3 4'), subok=True)\n",
      "    matrix([[1, 2],\n",
      "            [3, 4]])\n",
      "\n"
     ]
    }
   ],
   "source": [
    "# use the help function to get documentation on functions and classes\n",
    "help(np.array)"
   ]
  },
  {
   "cell_type": "markdown",
   "id": "c20d942b",
   "metadata": {},
   "source": [
    "#### classes"
   ]
  },
  {
   "cell_type": "code",
   "execution_count": 10,
   "id": "331e1f97",
   "metadata": {},
   "outputs": [
    {
     "name": "stdout",
     "output_type": "stream",
     "text": [
      "4\n"
     ]
    }
   ],
   "source": [
    "# Define a class named SquareClass to represent squares.\n",
    "class SquareClass:\n",
    "\t# The __init__ method is a special method called a constructor. It is automatically\n",
    "    # invoked when a new instance of the class is created. The purpose of this method\n",
    "    # is to initialize the newly created object's state.\n",
    "\tdef __init__(self, length, width):\n",
    "\t\t# `self` represents the instance of the class. It is the first argument to the\n",
    "        # methods of a class. Using `self`, we can access the attributes and methods of\n",
    "        # the class in Python. It binds the attributes with the given arguments.\n",
    "        \n",
    "        # `self.length` and `self.width` are instance variables. They are being\n",
    "        # initialized with the values passed to the __init__ method upon the object's\n",
    "        # creation. This allows each instance of SquareClass to have its own length and\n",
    "        # width values.\n",
    "\t\tself.length = length\n",
    "\t\tself.width = width\n",
    "\t # This is an instance method that calculates and returns the area of the square.\n",
    "    # Instance methods need a reference to the specific object instance (self) to access\n",
    "    # its attributes and other methods. This method uses `self.length` and `self.width`\n",
    "    # to access the square's length and width that were stored in the instance variables\n",
    "    # when the object was instantiated.\n",
    "\tdef size(self):\n",
    "\t\treturn self.length * self.width\n",
    "\n",
    "# Creating an instance (object) of the SquareClass. This action calls the __init__ method\n",
    "# of SquareClass with `length=2` and `width=2`, initializing the new square object's\n",
    "# attributes with these values. The variable `square` now refers to this new object.\n",
    "square = SquareClass(2, 2)\n",
    "print(square.size())\n",
    "#square.size() calls the method size() of the object square which returns length * width\n",
    "# 4"
   ]
  },
  {
   "cell_type": "markdown",
   "id": "3e6d7e60",
   "metadata": {},
   "source": [
    "## Task 3: Try Copilot\n",
    "\n",
    "[Contents](#Contents)"
   ]
  },
  {
   "cell_type": "markdown",
   "id": "53ef689a",
   "metadata": {},
   "source": [
    "* To accept automatic Copilot code use \"Tab\"\n",
    "* To reject automatic Copilot code use \"Esc\""
   ]
  },
  {
   "cell_type": "code",
   "execution_count": 11,
   "id": "6d0dc689",
   "metadata": {},
   "outputs": [
    {
     "name": "stdout",
     "output_type": "stream",
     "text": [
      "[ 2  2  4  5 10]\n"
     ]
    }
   ],
   "source": [
    "import numpy as np\n",
    "x = np. array ([2 ,5 ,10 ,2 ,4])\n",
    "# sort and print x\n",
    "\n",
    "# Here is what my Copilot suggested:\n",
    "x.sort()\n",
    "print(x)"
   ]
  },
  {
   "cell_type": "markdown",
   "id": "4805690c",
   "metadata": {},
   "source": [
    "Open chat by pressing (Ctrl+Alt+B). Try to type in \"plot x vs log(x)\"\n",
    "\n",
    "For better learning and understanding, it is a good idea to pause copilot when doing problem sets. Do so by clicking the \"frog\" in the bottom right of VSCode and pausing or disabling temporary."
   ]
  }
 ],
 "metadata": {
  "kernelspec": {
   "display_name": "base",
   "language": "python",
   "name": "python3"
  },
  "language_info": {
   "codemirror_mode": {
    "name": "ipython",
    "version": 3
   },
   "file_extension": ".py",
   "mimetype": "text/x-python",
   "name": "python",
   "nbconvert_exporter": "python",
   "pygments_lexer": "ipython3",
   "version": "3.13.5"
  }
 },
 "nbformat": 4,
 "nbformat_minor": 5
}
