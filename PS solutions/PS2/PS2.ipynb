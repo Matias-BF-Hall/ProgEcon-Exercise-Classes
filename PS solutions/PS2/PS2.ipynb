{
 "cells": [
  {
   "cell_type": "markdown",
   "metadata": {},
   "source": [
    "# Problem set 2: Descriptive economics - comments/solutions\n",
    "\n",
    "### Programming for Economists Autumn 2025: Classes 5 & 9\n",
    "**Matias BF Hall**"
   ]
  },
  {
   "cell_type": "markdown",
   "metadata": {},
   "source": [
    "**Table of contents**<a id='toc0_'></a>    \n",
    "- 1. [Basic pandas](#toc1_)    \n",
    "  - 1.1. [Dataframe](#toc1_1_)    \n",
    "  - 1.2. [New variable](#toc1_2_)    \n",
    "  - 1.3. [Indexing](#toc1_3_)    \n",
    "  - 1.4. [Changing variables](#toc1_4_)    \n",
    "  - 1.5. [Dropping observations and columns](#toc1_5_)    \n",
    "  - 1.6. [Renaming](#toc1_6_)    \n",
    "  - 1.7. [Income distribution](#toc1_7_)    \n",
    "- 2. [National account identity](#toc2_)    \n",
    "  - 2.1. [Download](#toc2_1_)    \n",
    "  - 2.2. [Merge](#toc2_2_)    \n",
    "  - 2.3. [Split-apply-combine-plot](#toc2_3_)    \n",
    "\n",
    "<!-- vscode-jupyter-toc-config\n",
    "\tnumbering=true\n",
    "\tanchor=true\n",
    "\tflat=false\n",
    "\tminLevel=2\n",
    "\tmaxLevel=6\n",
    "\t/vscode-jupyter-toc-config -->\n",
    "<!-- THIS CELL WILL BE REPLACED ON TOC UPDATE. DO NOT WRITE YOUR TEXT IN THIS CELL -->"
   ]
  },
  {
   "cell_type": "code",
   "execution_count": 6,
   "metadata": {},
   "outputs": [],
   "source": [
    "import numpy as np\n",
    "\n",
    "import requests\n",
    "import pandas as pd\n",
    "from IPython.display import display\n",
    "from io import StringIO\n",
    "\n",
    "import matplotlib.pyplot as plt\n",
    "plt.rcParams.update({'axes.grid':True,'grid.color':'black','grid.alpha':'0.25','grid.linestyle':'--'})\n",
    "plt.rcParams.update({'font.size': 14})\n",
    "\n",
    "from dstapi import DstApi"
   ]
  },
  {
   "cell_type": "markdown",
   "metadata": {},
   "source": [
    "## 1. <a id='toc1_'></a>[Basic pandas](#toc0_)"
   ]
  },
  {
   "cell_type": "markdown",
   "metadata": {},
   "source": [
    "### 1.1. <a id='toc1_1_'></a>[Dataframe](#toc0_)"
   ]
  },
  {
   "cell_type": "markdown",
   "metadata": {},
   "source": [
    "Modify the code below such that *income* and *consumption* are variables in the *df* DataFrame."
   ]
  },
  {
   "cell_type": "code",
   "execution_count": 7,
   "metadata": {},
   "outputs": [
    {
     "data": {
      "application/vnd.microsoft.datawrangler.viewer.v0+json": {
       "columns": [
        {
         "name": "index",
         "rawType": "int64",
         "type": "integer"
        },
        {
         "name": "id",
         "rawType": "int64",
         "type": "integer"
        },
        {
         "name": "income",
         "rawType": "float64",
         "type": "float"
        },
        {
         "name": "consumption",
         "rawType": "float64",
         "type": "float"
        }
       ],
       "ref": "14cc1dc0-c505-49e2-927f-722b065a3914",
       "rows": [
        [
         "0",
         "0",
         "0.7279811378334293",
         "0.8532181068363641"
        ],
        [
         "1",
         "1",
         "1.9978314749738708",
         "1.4134466650616395"
        ],
        [
         "2",
         "2",
         "0.2768228124612714",
         "0.5261395370633833"
        ],
        [
         "3",
         "3",
         "1.4819307916014663",
         "1.217345797873992"
        ],
        [
         "4",
         "4",
         "1.235904233915514",
         "1.1117122981758878"
        ]
       ],
       "shape": {
        "columns": 3,
        "rows": 5
       }
      },
      "text/html": [
       "<div>\n",
       "<style scoped>\n",
       "    .dataframe tbody tr th:only-of-type {\n",
       "        vertical-align: middle;\n",
       "    }\n",
       "\n",
       "    .dataframe tbody tr th {\n",
       "        vertical-align: top;\n",
       "    }\n",
       "\n",
       "    .dataframe thead th {\n",
       "        text-align: right;\n",
       "    }\n",
       "</style>\n",
       "<table border=\"1\" class=\"dataframe\">\n",
       "  <thead>\n",
       "    <tr style=\"text-align: right;\">\n",
       "      <th></th>\n",
       "      <th>id</th>\n",
       "      <th>income</th>\n",
       "      <th>consumption</th>\n",
       "    </tr>\n",
       "  </thead>\n",
       "  <tbody>\n",
       "    <tr>\n",
       "      <th>0</th>\n",
       "      <td>0</td>\n",
       "      <td>0.727981</td>\n",
       "      <td>0.853218</td>\n",
       "    </tr>\n",
       "    <tr>\n",
       "      <th>1</th>\n",
       "      <td>1</td>\n",
       "      <td>1.997831</td>\n",
       "      <td>1.413447</td>\n",
       "    </tr>\n",
       "    <tr>\n",
       "      <th>2</th>\n",
       "      <td>2</td>\n",
       "      <td>0.276823</td>\n",
       "      <td>0.526140</td>\n",
       "    </tr>\n",
       "    <tr>\n",
       "      <th>3</th>\n",
       "      <td>3</td>\n",
       "      <td>1.481931</td>\n",
       "      <td>1.217346</td>\n",
       "    </tr>\n",
       "    <tr>\n",
       "      <th>4</th>\n",
       "      <td>4</td>\n",
       "      <td>1.235904</td>\n",
       "      <td>1.111712</td>\n",
       "    </tr>\n",
       "  </tbody>\n",
       "</table>\n",
       "</div>"
      ],
      "text/plain": [
       "   id    income  consumption\n",
       "0   0  0.727981     0.853218\n",
       "1   1  1.997831     1.413447\n",
       "2   2  0.276823     0.526140\n",
       "3   3  1.481931     1.217346\n",
       "4   4  1.235904     1.111712"
      ]
     },
     "execution_count": 7,
     "metadata": {},
     "output_type": "execute_result"
    }
   ],
   "source": [
    "# Set random seed for replicability\n",
    "np.random.seed(1999)\n",
    "\n",
    "# Set number of observations, N\n",
    "N = 100\n",
    "\n",
    "# Create data, first an empty dictionary\n",
    "mydata = {}\n",
    "# Fill the dictionary with an id from 0 to N-1(0-99)\n",
    "mydata['id'] = range(N)\n",
    "\n",
    "# Define income as a log-normally distributed variable with N observations\n",
    "# and consumption as a concave function of income\n",
    "income = np.exp(np.random.normal(size=N))\n",
    "consumption = np.sqrt(income)\n",
    "\n",
    "# Add income and consumption to the dictionary\n",
    "mydata['income'] = income\n",
    "mydata['consumption'] = consumption\n",
    "\n",
    "# Create a dataframe from the dictionary - we name it df\n",
    "df = pd.DataFrame(mydata)\n",
    "\n",
    "# Alternatively, create the dataframe first and then add income and consumption\n",
    "#df['income'] = income\n",
    "#df['consumption'] = consumption\n",
    "\n",
    "# Print the first five rows of the dataframe\n",
    "df.head()"
   ]
  },
  {
   "cell_type": "code",
   "execution_count": 8,
   "metadata": {},
   "outputs": [
    {
     "data": {
      "application/vnd.microsoft.datawrangler.viewer.v0+json": {
       "columns": [
        {
         "name": "index",
         "rawType": "int64",
         "type": "integer"
        },
        {
         "name": "id",
         "rawType": "int64",
         "type": "integer"
        },
        {
         "name": "income",
         "rawType": "float64",
         "type": "float"
        },
        {
         "name": "consumption",
         "rawType": "float64",
         "type": "float"
        }
       ],
       "ref": "d2c86137-655f-4ebe-973a-b57eab2d0329",
       "rows": [
        [
         "0",
         "0",
         "0.7279811378334293",
         "0.8532181068363641"
        ],
        [
         "1",
         "1",
         "1.9978314749738708",
         "1.4134466650616395"
        ],
        [
         "2",
         "2",
         "0.2768228124612714",
         "0.5261395370633833"
        ],
        [
         "3",
         "3",
         "1.4819307916014663",
         "1.217345797873992"
        ],
        [
         "4",
         "4",
         "1.235904233915514",
         "1.1117122981758878"
        ],
        [
         "5",
         "5",
         "0.6626841380169226",
         "0.8140541370307767"
        ],
        [
         "6",
         "6",
         "2.5740316617317576",
         "1.6043789021711041"
        ],
        [
         "7",
         "7",
         "2.4754777620125497",
         "1.5733651076633641"
        ],
        [
         "8",
         "8",
         "0.582073786765034",
         "0.7629376034545905"
        ],
        [
         "9",
         "9",
         "3.335551620386577",
         "1.8263492602420208"
        ],
        [
         "10",
         "10",
         "0.9320435661823019",
         "0.9654240343922985"
        ],
        [
         "11",
         "11",
         "2.031708189593677",
         "1.4253800158532028"
        ],
        [
         "12",
         "12",
         "0.35695162457955354",
         "0.5974542866023755"
        ],
        [
         "13",
         "13",
         "0.3798246776046375",
         "0.616299178649978"
        ],
        [
         "14",
         "14",
         "3.8724609029910515",
         "1.9678569315351793"
        ],
        [
         "15",
         "15",
         "2.2350574944480894",
         "1.4950108676688907"
        ],
        [
         "16",
         "16",
         "0.7008962289032591",
         "0.8371954544210445"
        ],
        [
         "17",
         "17",
         "0.4472519589848972",
         "0.6687689877565326"
        ],
        [
         "18",
         "18",
         "1.2802348053100117",
         "1.1314746154068203"
        ],
        [
         "19",
         "19",
         "0.8689415613978843",
         "0.9321703499886081"
        ],
        [
         "20",
         "20",
         "0.9299816752886054",
         "0.9643555751322255"
        ],
        [
         "21",
         "21",
         "0.2692873271942129",
         "0.5189290194180828"
        ],
        [
         "22",
         "22",
         "0.15930116719749055",
         "0.3991255030657532"
        ],
        [
         "23",
         "23",
         "0.7853849935445266",
         "0.886219495127774"
        ],
        [
         "24",
         "24",
         "0.43568397483886545",
         "0.6600636142364351"
        ],
        [
         "25",
         "25",
         "0.2520984236954595",
         "0.5020940386973933"
        ],
        [
         "26",
         "26",
         "0.9079843979937275",
         "0.9528821532559667"
        ],
        [
         "27",
         "27",
         "1.0989944387730908",
         "1.0483293560580524"
        ],
        [
         "28",
         "28",
         "0.602498746434242",
         "0.7762079273198915"
        ],
        [
         "29",
         "29",
         "1.866790129818973",
         "1.3663052842681145"
        ],
        [
         "30",
         "30",
         "1.455000751255248",
         "1.2062341195867607"
        ],
        [
         "31",
         "31",
         "2.3453376198631513",
         "1.5314495159368302"
        ],
        [
         "32",
         "32",
         "0.5304664524188387",
         "0.728331279308282"
        ],
        [
         "33",
         "33",
         "0.843445697326514",
         "0.9183929972111688"
        ],
        [
         "34",
         "34",
         "0.5413873096106696",
         "0.7357902619705358"
        ],
        [
         "35",
         "35",
         "3.5219555345378377",
         "1.8766873832734736"
        ],
        [
         "36",
         "36",
         "1.735350767965264",
         "1.3173271302016307"
        ],
        [
         "37",
         "37",
         "1.5147513140478859",
         "1.2307523366006201"
        ],
        [
         "38",
         "38",
         "0.2836666083814367",
         "0.5326036128129781"
        ],
        [
         "39",
         "39",
         "0.7964650251187666",
         "0.8924488921606473"
        ],
        [
         "40",
         "40",
         "1.4982924321403217",
         "1.224047561224776"
        ],
        [
         "41",
         "41",
         "1.1360068537088113",
         "1.0658362227419422"
        ],
        [
         "42",
         "42",
         "0.9042802167837887",
         "0.950936494611385"
        ],
        [
         "43",
         "43",
         "1.2152689486757102",
         "1.1023923750986806"
        ],
        [
         "44",
         "44",
         "0.21579831594360796",
         "0.4645409733743709"
        ],
        [
         "45",
         "45",
         "0.5481363880899697",
         "0.7403623356775855"
        ],
        [
         "46",
         "46",
         "3.597941404446016",
         "1.896824030964922"
        ],
        [
         "47",
         "47",
         "0.9352953625109",
         "0.9671066965495069"
        ],
        [
         "48",
         "48",
         "1.2892047331556833",
         "1.1354315184790684"
        ],
        [
         "49",
         "49",
         "2.9015403932688932",
         "1.7033908515865914"
        ]
       ],
       "shape": {
        "columns": 3,
        "rows": 100
       }
      },
      "text/html": [
       "<div>\n",
       "<style scoped>\n",
       "    .dataframe tbody tr th:only-of-type {\n",
       "        vertical-align: middle;\n",
       "    }\n",
       "\n",
       "    .dataframe tbody tr th {\n",
       "        vertical-align: top;\n",
       "    }\n",
       "\n",
       "    .dataframe thead th {\n",
       "        text-align: right;\n",
       "    }\n",
       "</style>\n",
       "<table border=\"1\" class=\"dataframe\">\n",
       "  <thead>\n",
       "    <tr style=\"text-align: right;\">\n",
       "      <th></th>\n",
       "      <th>id</th>\n",
       "      <th>income</th>\n",
       "      <th>consumption</th>\n",
       "    </tr>\n",
       "  </thead>\n",
       "  <tbody>\n",
       "    <tr>\n",
       "      <th>0</th>\n",
       "      <td>0</td>\n",
       "      <td>0.727981</td>\n",
       "      <td>0.853218</td>\n",
       "    </tr>\n",
       "    <tr>\n",
       "      <th>1</th>\n",
       "      <td>1</td>\n",
       "      <td>1.997831</td>\n",
       "      <td>1.413447</td>\n",
       "    </tr>\n",
       "    <tr>\n",
       "      <th>2</th>\n",
       "      <td>2</td>\n",
       "      <td>0.276823</td>\n",
       "      <td>0.526140</td>\n",
       "    </tr>\n",
       "    <tr>\n",
       "      <th>3</th>\n",
       "      <td>3</td>\n",
       "      <td>1.481931</td>\n",
       "      <td>1.217346</td>\n",
       "    </tr>\n",
       "    <tr>\n",
       "      <th>4</th>\n",
       "      <td>4</td>\n",
       "      <td>1.235904</td>\n",
       "      <td>1.111712</td>\n",
       "    </tr>\n",
       "    <tr>\n",
       "      <th>...</th>\n",
       "      <td>...</td>\n",
       "      <td>...</td>\n",
       "      <td>...</td>\n",
       "    </tr>\n",
       "    <tr>\n",
       "      <th>95</th>\n",
       "      <td>95</td>\n",
       "      <td>0.201856</td>\n",
       "      <td>0.449284</td>\n",
       "    </tr>\n",
       "    <tr>\n",
       "      <th>96</th>\n",
       "      <td>96</td>\n",
       "      <td>2.368034</td>\n",
       "      <td>1.538842</td>\n",
       "    </tr>\n",
       "    <tr>\n",
       "      <th>97</th>\n",
       "      <td>97</td>\n",
       "      <td>2.389874</td>\n",
       "      <td>1.545922</td>\n",
       "    </tr>\n",
       "    <tr>\n",
       "      <th>98</th>\n",
       "      <td>98</td>\n",
       "      <td>1.488635</td>\n",
       "      <td>1.220096</td>\n",
       "    </tr>\n",
       "    <tr>\n",
       "      <th>99</th>\n",
       "      <td>99</td>\n",
       "      <td>0.360234</td>\n",
       "      <td>0.600195</td>\n",
       "    </tr>\n",
       "  </tbody>\n",
       "</table>\n",
       "<p>100 rows × 3 columns</p>\n",
       "</div>"
      ],
      "text/plain": [
       "    id    income  consumption\n",
       "0    0  0.727981     0.853218\n",
       "1    1  1.997831     1.413447\n",
       "2    2  0.276823     0.526140\n",
       "3    3  1.481931     1.217346\n",
       "4    4  1.235904     1.111712\n",
       "..  ..       ...          ...\n",
       "95  95  0.201856     0.449284\n",
       "96  96  2.368034     1.538842\n",
       "97  97  2.389874     1.545922\n",
       "98  98  1.488635     1.220096\n",
       "99  99  0.360234     0.600195\n",
       "\n",
       "[100 rows x 3 columns]"
      ]
     },
     "metadata": {},
     "output_type": "display_data"
    }
   ],
   "source": [
    "# Display the whole(truncated) dataframe\n",
    "display(df)"
   ]
  },
  {
   "cell_type": "markdown",
   "metadata": {},
   "source": [
    "### 1.2. <a id='toc1_2_'></a>[New variable](#toc0_)"
   ]
  },
  {
   "cell_type": "markdown",
   "metadata": {},
   "source": [
    "Create a new variable *ratio* which is the ratio of consumption to income."
   ]
  },
  {
   "cell_type": "code",
   "execution_count": 9,
   "metadata": {},
   "outputs": [
    {
     "data": {
      "application/vnd.microsoft.datawrangler.viewer.v0+json": {
       "columns": [
        {
         "name": "index",
         "rawType": "int64",
         "type": "integer"
        },
        {
         "name": "id",
         "rawType": "int64",
         "type": "integer"
        },
        {
         "name": "income",
         "rawType": "float64",
         "type": "float"
        },
        {
         "name": "consumption",
         "rawType": "float64",
         "type": "float"
        },
        {
         "name": "ratio",
         "rawType": "float64",
         "type": "float"
        }
       ],
       "ref": "b9b1e16d-8c6a-4276-9495-3f2891943d40",
       "rows": [
        [
         "0",
         "0",
         "0.7279811378334293",
         "0.8532181068363641",
         "1.1720332608831832"
        ],
        [
         "1",
         "1",
         "1.9978314749738708",
         "1.4134466650616395",
         "0.7074904378909767"
        ],
        [
         "2",
         "2",
         "0.2768228124612714",
         "0.5261395370633833",
         "1.9006364843467962"
        ],
        [
         "3",
         "3",
         "1.4819307916014663",
         "1.217345797873992",
         "0.8214592778374304"
        ],
        [
         "4",
         "4",
         "1.235904233915514",
         "1.1117122981758878",
         "0.8995133018145192"
        ]
       ],
       "shape": {
        "columns": 4,
        "rows": 5
       }
      },
      "text/html": [
       "<div>\n",
       "<style scoped>\n",
       "    .dataframe tbody tr th:only-of-type {\n",
       "        vertical-align: middle;\n",
       "    }\n",
       "\n",
       "    .dataframe tbody tr th {\n",
       "        vertical-align: top;\n",
       "    }\n",
       "\n",
       "    .dataframe thead th {\n",
       "        text-align: right;\n",
       "    }\n",
       "</style>\n",
       "<table border=\"1\" class=\"dataframe\">\n",
       "  <thead>\n",
       "    <tr style=\"text-align: right;\">\n",
       "      <th></th>\n",
       "      <th>id</th>\n",
       "      <th>income</th>\n",
       "      <th>consumption</th>\n",
       "      <th>ratio</th>\n",
       "    </tr>\n",
       "  </thead>\n",
       "  <tbody>\n",
       "    <tr>\n",
       "      <th>0</th>\n",
       "      <td>0</td>\n",
       "      <td>0.727981</td>\n",
       "      <td>0.853218</td>\n",
       "      <td>1.172033</td>\n",
       "    </tr>\n",
       "    <tr>\n",
       "      <th>1</th>\n",
       "      <td>1</td>\n",
       "      <td>1.997831</td>\n",
       "      <td>1.413447</td>\n",
       "      <td>0.707490</td>\n",
       "    </tr>\n",
       "    <tr>\n",
       "      <th>2</th>\n",
       "      <td>2</td>\n",
       "      <td>0.276823</td>\n",
       "      <td>0.526140</td>\n",
       "      <td>1.900636</td>\n",
       "    </tr>\n",
       "    <tr>\n",
       "      <th>3</th>\n",
       "      <td>3</td>\n",
       "      <td>1.481931</td>\n",
       "      <td>1.217346</td>\n",
       "      <td>0.821459</td>\n",
       "    </tr>\n",
       "    <tr>\n",
       "      <th>4</th>\n",
       "      <td>4</td>\n",
       "      <td>1.235904</td>\n",
       "      <td>1.111712</td>\n",
       "      <td>0.899513</td>\n",
       "    </tr>\n",
       "  </tbody>\n",
       "</table>\n",
       "</div>"
      ],
      "text/plain": [
       "   id    income  consumption     ratio\n",
       "0   0  0.727981     0.853218  1.172033\n",
       "1   1  1.997831     1.413447  0.707490\n",
       "2   2  0.276823     0.526140  1.900636\n",
       "3   3  1.481931     1.217346  0.821459\n",
       "4   4  1.235904     1.111712  0.899513"
      ]
     },
     "execution_count": 9,
     "metadata": {},
     "output_type": "execute_result"
    }
   ],
   "source": [
    "# we can add it directly to the dataframe, using the dataframe columns\n",
    "df['ratio'] = df['consumption']/df['income']\n",
    "# or define ratio first and then add it to the dataframe\n",
    "# ratio = consumption/income\n",
    "# df['ratio'] = ratio\n",
    "df.head()"
   ]
  },
  {
   "cell_type": "markdown",
   "metadata": {},
   "source": [
    "### 1.3. <a id='toc1_3_'></a>[Indexing](#toc0_)"
   ]
  },
  {
   "cell_type": "markdown",
   "metadata": {},
   "source": [
    "#### **Note that the exact same operation in terms of indexing in Pandas can be done in many ways**\n",
    "See the examples below here. To my knowledge direct assess can not be used for everything, especially not when the selction of the data source becomes more complicated. So I suppose it would be a good habit to use loc from the getgo, even though it might seem redundant, for the current level of complexity."
   ]
  },
  {
   "cell_type": "markdown",
   "metadata": {},
   "source": [
    "**Question a:** Select everybody: with an income above 1."
   ]
  },
  {
   "cell_type": "code",
   "execution_count": 10,
   "metadata": {},
   "outputs": [
    {
     "data": {
      "application/vnd.microsoft.datawrangler.viewer.v0+json": {
       "columns": [
        {
         "name": "index",
         "rawType": "int64",
         "type": "integer"
        },
        {
         "name": "id",
         "rawType": "int64",
         "type": "integer"
        },
        {
         "name": "income",
         "rawType": "float64",
         "type": "float"
        },
        {
         "name": "consumption",
         "rawType": "float64",
         "type": "float"
        },
        {
         "name": "ratio",
         "rawType": "float64",
         "type": "float"
        }
       ],
       "ref": "1ba5182b-c35a-4492-b4af-d3e282a47383",
       "rows": [
        [
         "1",
         "1",
         "1.9978314749738708",
         "1.4134466650616395",
         "0.7074904378909767"
        ],
        [
         "3",
         "3",
         "1.4819307916014663",
         "1.217345797873992",
         "0.8214592778374304"
        ],
        [
         "4",
         "4",
         "1.235904233915514",
         "1.1117122981758878",
         "0.8995133018145192"
        ],
        [
         "6",
         "6",
         "2.5740316617317576",
         "1.6043789021711041",
         "0.6232941599062187"
        ],
        [
         "7",
         "7",
         "2.4754777620125497",
         "1.5733651076633641",
         "0.6355803844443454"
        ]
       ],
       "shape": {
        "columns": 4,
        "rows": 5
       }
      },
      "text/html": [
       "<div>\n",
       "<style scoped>\n",
       "    .dataframe tbody tr th:only-of-type {\n",
       "        vertical-align: middle;\n",
       "    }\n",
       "\n",
       "    .dataframe tbody tr th {\n",
       "        vertical-align: top;\n",
       "    }\n",
       "\n",
       "    .dataframe thead th {\n",
       "        text-align: right;\n",
       "    }\n",
       "</style>\n",
       "<table border=\"1\" class=\"dataframe\">\n",
       "  <thead>\n",
       "    <tr style=\"text-align: right;\">\n",
       "      <th></th>\n",
       "      <th>id</th>\n",
       "      <th>income</th>\n",
       "      <th>consumption</th>\n",
       "      <th>ratio</th>\n",
       "    </tr>\n",
       "  </thead>\n",
       "  <tbody>\n",
       "    <tr>\n",
       "      <th>1</th>\n",
       "      <td>1</td>\n",
       "      <td>1.997831</td>\n",
       "      <td>1.413447</td>\n",
       "      <td>0.707490</td>\n",
       "    </tr>\n",
       "    <tr>\n",
       "      <th>3</th>\n",
       "      <td>3</td>\n",
       "      <td>1.481931</td>\n",
       "      <td>1.217346</td>\n",
       "      <td>0.821459</td>\n",
       "    </tr>\n",
       "    <tr>\n",
       "      <th>4</th>\n",
       "      <td>4</td>\n",
       "      <td>1.235904</td>\n",
       "      <td>1.111712</td>\n",
       "      <td>0.899513</td>\n",
       "    </tr>\n",
       "    <tr>\n",
       "      <th>6</th>\n",
       "      <td>6</td>\n",
       "      <td>2.574032</td>\n",
       "      <td>1.604379</td>\n",
       "      <td>0.623294</td>\n",
       "    </tr>\n",
       "    <tr>\n",
       "      <th>7</th>\n",
       "      <td>7</td>\n",
       "      <td>2.475478</td>\n",
       "      <td>1.573365</td>\n",
       "      <td>0.635580</td>\n",
       "    </tr>\n",
       "  </tbody>\n",
       "</table>\n",
       "</div>"
      ],
      "text/plain": [
       "   id    income  consumption     ratio\n",
       "1   1  1.997831     1.413447  0.707490\n",
       "3   3  1.481931     1.217346  0.821459\n",
       "4   4  1.235904     1.111712  0.899513\n",
       "6   6  2.574032     1.604379  0.623294\n",
       "7   7  2.475478     1.573365  0.635580"
      ]
     },
     "execution_count": 10,
     "metadata": {},
     "output_type": "execute_result"
    }
   ],
   "source": [
    "# we can filter the dataframe directly using boolean indexing\n",
    "df[df['income'] > 1].head()\n",
    "\n",
    "# we can do the same using the loc method\n",
    "# df.loc[df['income'] > 1].head()\n",
    "\n",
    "# we can even access the columns through the dataframe attribute\n",
    "#df[df.income > 1].head()\n",
    "\n",
    "# As stated above, loc is the most \"right\" way to do it, but I think for this course \n",
    "# it is ok to use the one you find the most intuitive"
   ]
  },
  {
   "cell_type": "markdown",
   "metadata": {},
   "source": [
    "**Question b:** Select everybody with an income *above* 1 and a ratio *above* 0.7."
   ]
  },
  {
   "cell_type": "code",
   "execution_count": 11,
   "metadata": {},
   "outputs": [
    {
     "data": {
      "application/vnd.microsoft.datawrangler.viewer.v0+json": {
       "columns": [
        {
         "name": "index",
         "rawType": "int64",
         "type": "integer"
        },
        {
         "name": "id",
         "rawType": "int64",
         "type": "integer"
        },
        {
         "name": "income",
         "rawType": "float64",
         "type": "float"
        },
        {
         "name": "consumption",
         "rawType": "float64",
         "type": "float"
        },
        {
         "name": "ratio",
         "rawType": "float64",
         "type": "float"
        }
       ],
       "ref": "44797f53-86a3-49f5-9557-1e59eb9da453",
       "rows": [
        [
         "1",
         "1",
         "1.9978314749738708",
         "1.4134466650616395",
         "0.7074904378909767"
        ],
        [
         "3",
         "3",
         "1.4819307916014663",
         "1.217345797873992",
         "0.8214592778374304"
        ],
        [
         "4",
         "4",
         "1.235904233915514",
         "1.1117122981758878",
         "0.8995133018145192"
        ],
        [
         "11",
         "11",
         "2.031708189593677",
         "1.4253800158532028",
         "0.7015672935483249"
        ],
        [
         "18",
         "18",
         "1.2802348053100117",
         "1.1314746154068203",
         "0.8838024171142818"
        ]
       ],
       "shape": {
        "columns": 4,
        "rows": 5
       }
      },
      "text/html": [
       "<div>\n",
       "<style scoped>\n",
       "    .dataframe tbody tr th:only-of-type {\n",
       "        vertical-align: middle;\n",
       "    }\n",
       "\n",
       "    .dataframe tbody tr th {\n",
       "        vertical-align: top;\n",
       "    }\n",
       "\n",
       "    .dataframe thead th {\n",
       "        text-align: right;\n",
       "    }\n",
       "</style>\n",
       "<table border=\"1\" class=\"dataframe\">\n",
       "  <thead>\n",
       "    <tr style=\"text-align: right;\">\n",
       "      <th></th>\n",
       "      <th>id</th>\n",
       "      <th>income</th>\n",
       "      <th>consumption</th>\n",
       "      <th>ratio</th>\n",
       "    </tr>\n",
       "  </thead>\n",
       "  <tbody>\n",
       "    <tr>\n",
       "      <th>1</th>\n",
       "      <td>1</td>\n",
       "      <td>1.997831</td>\n",
       "      <td>1.413447</td>\n",
       "      <td>0.707490</td>\n",
       "    </tr>\n",
       "    <tr>\n",
       "      <th>3</th>\n",
       "      <td>3</td>\n",
       "      <td>1.481931</td>\n",
       "      <td>1.217346</td>\n",
       "      <td>0.821459</td>\n",
       "    </tr>\n",
       "    <tr>\n",
       "      <th>4</th>\n",
       "      <td>4</td>\n",
       "      <td>1.235904</td>\n",
       "      <td>1.111712</td>\n",
       "      <td>0.899513</td>\n",
       "    </tr>\n",
       "    <tr>\n",
       "      <th>11</th>\n",
       "      <td>11</td>\n",
       "      <td>2.031708</td>\n",
       "      <td>1.425380</td>\n",
       "      <td>0.701567</td>\n",
       "    </tr>\n",
       "    <tr>\n",
       "      <th>18</th>\n",
       "      <td>18</td>\n",
       "      <td>1.280235</td>\n",
       "      <td>1.131475</td>\n",
       "      <td>0.883802</td>\n",
       "    </tr>\n",
       "  </tbody>\n",
       "</table>\n",
       "</div>"
      ],
      "text/plain": [
       "    id    income  consumption     ratio\n",
       "1    1  1.997831     1.413447  0.707490\n",
       "3    3  1.481931     1.217346  0.821459\n",
       "4    4  1.235904     1.111712  0.899513\n",
       "11  11  2.031708     1.425380  0.701567\n",
       "18  18  1.280235     1.131475  0.883802"
      ]
     },
     "execution_count": 11,
     "metadata": {},
     "output_type": "execute_result"
    }
   ],
   "source": [
    "# We can also combine several conditions using & (and) and | (or)\n",
    "# Remember to put each condition in parentheses\n",
    "I = (df['income'] > 1) & (df['ratio'] > 0.7)\n",
    "df.loc[I].head()"
   ]
  },
  {
   "cell_type": "markdown",
   "metadata": {},
   "source": [
    "### 1.4. <a id='toc1_4_'></a>[Changing variables](#toc0_)"
   ]
  },
  {
   "cell_type": "markdown",
   "metadata": {},
   "source": [
    "**Question a:** Set consumption equal to 0.5 if income is less than 0.5."
   ]
  },
  {
   "cell_type": "code",
   "execution_count": 12,
   "metadata": {},
   "outputs": [
    {
     "name": "stdout",
     "output_type": "stream",
     "text": [
      "Original consumption mean: 1.0878444061731818\n",
      "Consumption mean with forced consumption: 1.075479712048503\n"
     ]
    }
   ],
   "source": [
    "# Index for those with income below 0.5\n",
    "I = df['income'] < 0.5\n",
    "\n",
    "# Create a new dataframe where those with income below 0.5 have consumption set to 0.5\n",
    "df_forced = df.copy()\n",
    "df_forced.loc[I, 'consumption'] = 0.5\n",
    "# You can read the indexing as: for those rows where I is true, set the consumption column to 0.5\n",
    "\n",
    "# Compare\n",
    "print(f'Original consumption mean: {df['consumption'].mean()}') # <- compare with answer\n",
    "print(f'Consumption mean with forced consumption: {df_forced['consumption'].mean()}')\n",
    "\n",
    "# Overall forcing poor consumers to consume less than they would want(sqrt of income), decreases average consumption\n",
    "# Even though we force some consumers to consume more than they would want, the net effect is a decrease in average consumption"
   ]
  },
  {
   "cell_type": "markdown",
   "metadata": {},
   "source": [
    "**Question b:** Set consumption equal to income if income is less than 0.5."
   ]
  },
  {
   "cell_type": "code",
   "execution_count": 13,
   "metadata": {},
   "outputs": [
    {
     "name": "stdout",
     "output_type": "stream",
     "text": [
      "Original consumption mean: 1.0878444061731818\n",
      "Consumption mean with hand to mouth: 1.0337728690050054\n"
     ]
    }
   ],
   "source": [
    "# Index for those with income below 0.5\n",
    "I = df['income'] < 0.5\n",
    "\n",
    "# Create a new dataframe where those with income below 0.5 have consumption set to income(hand to mouth consumers)\n",
    "df_htm = df.copy()\n",
    "df_htm.loc[I, 'consumption'] = df_htm.loc[I, 'income']\n",
    "\n",
    "# Compare\n",
    "print(f'Original consumption mean: {df['consumption'].mean()}') # <- compare with answer\n",
    "print(f'Consumption mean with hand to mouth: {df_htm['consumption'].mean()}')\n",
    "# Overall making poor consumers hand to mouth, decreases average consumption as they were all borrowers before"
   ]
  },
  {
   "cell_type": "markdown",
   "metadata": {},
   "source": [
    "### 1.5. <a id='toc1_5_'></a>[Dropping observations and columns](#toc0_)"
   ]
  },
  {
   "cell_type": "markdown",
   "metadata": {},
   "source": [
    "Drop the *ratio* variable and all rows with an income above 1.5. After this, also drop the first 5 rows."
   ]
  },
  {
   "cell_type": "code",
   "execution_count": 14,
   "metadata": {},
   "outputs": [
    {
     "name": "stdout",
     "output_type": "stream",
     "text": [
      "before: 100 observations, 4 variables\n",
      "after: 65 observations, 3 variables\n"
     ]
    }
   ],
   "source": [
    "# Keep in mind we cannot drop e.g. the coloumn 'ratio' more than once, so make sure to run from the start if you want to try again\n",
    "print(f'before: {df.shape[0]} observations, {df.shape[1]} variables')\n",
    "# Since we cannot drop rows directly, we need to reassign the dataframe to itself after dropping rows/columns\n",
    "df = df.drop('ratio', axis=1) # axis=1 means we drop a column, axis=0 would mean we drop a row\n",
    "df = df.drop(df[df['income'] > 1.5].index) # drop all rows where income is above 1.5, using the index attribute that gives the row indices\n",
    "df = df.drop(df[:5].index) # drop the first five rows, again using the index attribute\n",
    "# alternatively we can index directly using iloc\n",
    "#df = df.iloc[5:] # drop the first five rows using iloc where we can index directly by position\n",
    "print(f'after: {df.shape[0]} observations, {df.shape[1]} variables')"
   ]
  },
  {
   "cell_type": "code",
   "execution_count": 15,
   "metadata": {},
   "outputs": [
    {
     "data": {
      "application/vnd.microsoft.datawrangler.viewer.v0+json": {
       "columns": [
        {
         "name": "index",
         "rawType": "int64",
         "type": "integer"
        },
        {
         "name": "id",
         "rawType": "int64",
         "type": "integer"
        },
        {
         "name": "income",
         "rawType": "float64",
         "type": "float"
        },
        {
         "name": "consumption",
         "rawType": "float64",
         "type": "float"
        }
       ],
       "ref": "2ef9f87f-6696-4101-a129-6ce81b77121a",
       "rows": [
        [
         "0",
         "8",
         "0.582073786765034",
         "0.7629376034545905"
        ],
        [
         "1",
         "10",
         "0.9320435661823019",
         "0.9654240343922985"
        ],
        [
         "2",
         "12",
         "0.35695162457955354",
         "0.5974542866023755"
        ],
        [
         "3",
         "13",
         "0.3798246776046375",
         "0.616299178649978"
        ],
        [
         "4",
         "16",
         "0.7008962289032591",
         "0.8371954544210445"
        ]
       ],
       "shape": {
        "columns": 3,
        "rows": 5
       }
      },
      "text/html": [
       "<div>\n",
       "<style scoped>\n",
       "    .dataframe tbody tr th:only-of-type {\n",
       "        vertical-align: middle;\n",
       "    }\n",
       "\n",
       "    .dataframe tbody tr th {\n",
       "        vertical-align: top;\n",
       "    }\n",
       "\n",
       "    .dataframe thead th {\n",
       "        text-align: right;\n",
       "    }\n",
       "</style>\n",
       "<table border=\"1\" class=\"dataframe\">\n",
       "  <thead>\n",
       "    <tr style=\"text-align: right;\">\n",
       "      <th></th>\n",
       "      <th>id</th>\n",
       "      <th>income</th>\n",
       "      <th>consumption</th>\n",
       "    </tr>\n",
       "  </thead>\n",
       "  <tbody>\n",
       "    <tr>\n",
       "      <th>0</th>\n",
       "      <td>8</td>\n",
       "      <td>0.582074</td>\n",
       "      <td>0.762938</td>\n",
       "    </tr>\n",
       "    <tr>\n",
       "      <th>1</th>\n",
       "      <td>10</td>\n",
       "      <td>0.932044</td>\n",
       "      <td>0.965424</td>\n",
       "    </tr>\n",
       "    <tr>\n",
       "      <th>2</th>\n",
       "      <td>12</td>\n",
       "      <td>0.356952</td>\n",
       "      <td>0.597454</td>\n",
       "    </tr>\n",
       "    <tr>\n",
       "      <th>3</th>\n",
       "      <td>13</td>\n",
       "      <td>0.379825</td>\n",
       "      <td>0.616299</td>\n",
       "    </tr>\n",
       "    <tr>\n",
       "      <th>4</th>\n",
       "      <td>16</td>\n",
       "      <td>0.700896</td>\n",
       "      <td>0.837195</td>\n",
       "    </tr>\n",
       "  </tbody>\n",
       "</table>\n",
       "</div>"
      ],
      "text/plain": [
       "   id    income  consumption\n",
       "0   8  0.582074     0.762938\n",
       "1  10  0.932044     0.965424\n",
       "2  12  0.356952     0.597454\n",
       "3  13  0.379825     0.616299\n",
       "4  16  0.700896     0.837195"
      ]
     },
     "execution_count": 15,
     "metadata": {},
     "output_type": "execute_result"
    }
   ],
   "source": [
    "# We can reset the index after dropping rows, so that the index runs from 0 to n-1 again\n",
    "# This is not strictly necessary, but can be useful\n",
    "df = df.reset_index(drop=True) # reset the index, drop=True means we do not keep the old index as a column\n",
    "df.head() #check before and after by running df.head() before and after the reset"
   ]
  },
  {
   "cell_type": "markdown",
   "metadata": {},
   "source": [
    "### 1.6. <a id='toc1_6_'></a>[Renaming](#toc0_)"
   ]
  },
  {
   "cell_type": "markdown",
   "metadata": {},
   "source": [
    "Rename *consumption* to *cons* and *income* to *inc*."
   ]
  },
  {
   "cell_type": "code",
   "execution_count": 16,
   "metadata": {},
   "outputs": [
    {
     "name": "stdout",
     "output_type": "stream",
     "text": [
      "Index(['id', 'income', 'consumption'], dtype='object')\n"
     ]
    },
    {
     "data": {
      "application/vnd.microsoft.datawrangler.viewer.v0+json": {
       "columns": [
        {
         "name": "index",
         "rawType": "int64",
         "type": "integer"
        },
        {
         "name": "id",
         "rawType": "int64",
         "type": "integer"
        },
        {
         "name": "inc",
         "rawType": "float64",
         "type": "float"
        },
        {
         "name": "cons",
         "rawType": "float64",
         "type": "float"
        }
       ],
       "ref": "6be660c3-2472-471d-8379-978be8fd231d",
       "rows": [
        [
         "0",
         "8",
         "0.582073786765034",
         "0.7629376034545905"
        ],
        [
         "1",
         "10",
         "0.9320435661823019",
         "0.9654240343922985"
        ],
        [
         "2",
         "12",
         "0.35695162457955354",
         "0.5974542866023755"
        ],
        [
         "3",
         "13",
         "0.3798246776046375",
         "0.616299178649978"
        ],
        [
         "4",
         "16",
         "0.7008962289032591",
         "0.8371954544210445"
        ]
       ],
       "shape": {
        "columns": 3,
        "rows": 5
       }
      },
      "text/html": [
       "<div>\n",
       "<style scoped>\n",
       "    .dataframe tbody tr th:only-of-type {\n",
       "        vertical-align: middle;\n",
       "    }\n",
       "\n",
       "    .dataframe tbody tr th {\n",
       "        vertical-align: top;\n",
       "    }\n",
       "\n",
       "    .dataframe thead th {\n",
       "        text-align: right;\n",
       "    }\n",
       "</style>\n",
       "<table border=\"1\" class=\"dataframe\">\n",
       "  <thead>\n",
       "    <tr style=\"text-align: right;\">\n",
       "      <th></th>\n",
       "      <th>id</th>\n",
       "      <th>inc</th>\n",
       "      <th>cons</th>\n",
       "    </tr>\n",
       "  </thead>\n",
       "  <tbody>\n",
       "    <tr>\n",
       "      <th>0</th>\n",
       "      <td>8</td>\n",
       "      <td>0.582074</td>\n",
       "      <td>0.762938</td>\n",
       "    </tr>\n",
       "    <tr>\n",
       "      <th>1</th>\n",
       "      <td>10</td>\n",
       "      <td>0.932044</td>\n",
       "      <td>0.965424</td>\n",
       "    </tr>\n",
       "    <tr>\n",
       "      <th>2</th>\n",
       "      <td>12</td>\n",
       "      <td>0.356952</td>\n",
       "      <td>0.597454</td>\n",
       "    </tr>\n",
       "    <tr>\n",
       "      <th>3</th>\n",
       "      <td>13</td>\n",
       "      <td>0.379825</td>\n",
       "      <td>0.616299</td>\n",
       "    </tr>\n",
       "    <tr>\n",
       "      <th>4</th>\n",
       "      <td>16</td>\n",
       "      <td>0.700896</td>\n",
       "      <td>0.837195</td>\n",
       "    </tr>\n",
       "  </tbody>\n",
       "</table>\n",
       "</div>"
      ],
      "text/plain": [
       "   id       inc      cons\n",
       "0   8  0.582074  0.762938\n",
       "1  10  0.932044  0.965424\n",
       "2  12  0.356952  0.597454\n",
       "3  13  0.379825  0.616299\n",
       "4  16  0.700896  0.837195"
      ]
     },
     "execution_count": 16,
     "metadata": {},
     "output_type": "execute_result"
    }
   ],
   "source": [
    "# Run the code from the start to get the right results below, and uncomment your \n",
    "# preferred renaming method or to check that they all give the same result\n",
    "\n",
    "# We can rename columns in several ways\n",
    "\n",
    "# We can rename all columns at once\n",
    "print(df.columns) # print current column names to make sure we change the right ones\n",
    "df.columns = ['id', 'inc', 'cons']  # Rename all columns at once\n",
    "\n",
    "# We can rename a single column using a list comprehension\n",
    "#df.columns = [col if col != 'income' else 'inc' for col in df.columns]\n",
    "# The above reads: for each column in the current columns, if the column is not 'income', keep it the same, otherwise change it to 'inc'\n",
    "\n",
    "# Alternatively, we can use the rename method\n",
    "# df = df.rename(columns={'income': 'inc', 'consumption': 'cons'})\n",
    "# The above reads: rename the column 'income' to 'inc' and 'consumption' to 'cons'\n",
    "\n",
    "# The most simple way to rename a single column is to just assign to it directly and then drop the old column\n",
    "#df['inc'] = df['income']\n",
    "#df = df.drop('income', axis=1)\n",
    "#df['cons'] = df['consumption']\n",
    "#df = df.drop('consumption', axis=1)\n",
    "# This is not very efficient if you have many columns to rename, but it works\n",
    "\n",
    "df.head()"
   ]
  },
  {
   "cell_type": "code",
   "execution_count": 17,
   "metadata": {},
   "outputs": [
    {
     "data": {
      "application/vnd.microsoft.datawrangler.viewer.v0+json": {
       "columns": [
        {
         "name": "index",
         "rawType": "int64",
         "type": "integer"
        },
        {
         "name": "id",
         "rawType": "int64",
         "type": "integer"
        },
        {
         "name": "inc",
         "rawType": "float64",
         "type": "float"
        },
        {
         "name": "con",
         "rawType": "float64",
         "type": "float"
        }
       ],
       "ref": "03aa0594-b040-4da8-9936-0c8b6b4c50f1",
       "rows": [
        [
         "0",
         "0",
         "0.7279811378334293",
         "0.8532181068363641"
        ],
        [
         "1",
         "1",
         "1.9978314749738708",
         "1.4134466650616395"
        ],
        [
         "2",
         "2",
         "0.2768228124612714",
         "0.5261395370633833"
        ],
        [
         "3",
         "3",
         "1.4819307916014663",
         "1.217345797873992"
        ],
        [
         "4",
         "4",
         "1.235904233915514",
         "1.1117122981758878"
        ]
       ],
       "shape": {
        "columns": 3,
        "rows": 5
       }
      },
      "text/html": [
       "<div>\n",
       "<style scoped>\n",
       "    .dataframe tbody tr th:only-of-type {\n",
       "        vertical-align: middle;\n",
       "    }\n",
       "\n",
       "    .dataframe tbody tr th {\n",
       "        vertical-align: top;\n",
       "    }\n",
       "\n",
       "    .dataframe thead th {\n",
       "        text-align: right;\n",
       "    }\n",
       "</style>\n",
       "<table border=\"1\" class=\"dataframe\">\n",
       "  <thead>\n",
       "    <tr style=\"text-align: right;\">\n",
       "      <th></th>\n",
       "      <th>id</th>\n",
       "      <th>inc</th>\n",
       "      <th>con</th>\n",
       "    </tr>\n",
       "  </thead>\n",
       "  <tbody>\n",
       "    <tr>\n",
       "      <th>0</th>\n",
       "      <td>0</td>\n",
       "      <td>0.727981</td>\n",
       "      <td>0.853218</td>\n",
       "    </tr>\n",
       "    <tr>\n",
       "      <th>1</th>\n",
       "      <td>1</td>\n",
       "      <td>1.997831</td>\n",
       "      <td>1.413447</td>\n",
       "    </tr>\n",
       "    <tr>\n",
       "      <th>2</th>\n",
       "      <td>2</td>\n",
       "      <td>0.276823</td>\n",
       "      <td>0.526140</td>\n",
       "    </tr>\n",
       "    <tr>\n",
       "      <th>3</th>\n",
       "      <td>3</td>\n",
       "      <td>1.481931</td>\n",
       "      <td>1.217346</td>\n",
       "    </tr>\n",
       "    <tr>\n",
       "      <th>4</th>\n",
       "      <td>4</td>\n",
       "      <td>1.235904</td>\n",
       "      <td>1.111712</td>\n",
       "    </tr>\n",
       "  </tbody>\n",
       "</table>\n",
       "</div>"
      ],
      "text/plain": [
       "   id       inc       con\n",
       "0   0  0.727981  0.853218\n",
       "1   1  1.997831  1.413447\n",
       "2   2  0.276823  0.526140\n",
       "3   3  1.481931  1.217346\n",
       "4   4  1.235904  1.111712"
      ]
     },
     "execution_count": 17,
     "metadata": {},
     "output_type": "execute_result"
    }
   ],
   "source": [
    "# Create the true dataframe again to have the original data for the next exercises\n",
    "# Set seed again to get the same data\n",
    "np.random.seed(1999)\n",
    "N = 100\n",
    "mydata = {}\n",
    "mydata['id'] = range(N)\n",
    "mydata['income'] = np.exp(np.random.normal(size=N))\n",
    "mydata['consumption'] = np.sqrt(mydata['income'])\n",
    "\n",
    "df_true = pd.DataFrame(mydata)\n",
    "\n",
    "df_true = df_true.rename(columns={'income':'inc','consumption':'con'})\n",
    "df_true.head()"
   ]
  },
  {
   "cell_type": "markdown",
   "metadata": {},
   "source": [
    "### 1.7. <a id='toc1_7_'></a>[Income distribution](#toc0_)"
   ]
  },
  {
   "cell_type": "markdown",
   "metadata": {},
   "source": [
    "Compute the share of income for each decile of the income distribution using the code below as a starting point."
   ]
  },
  {
   "cell_type": "code",
   "execution_count": 42,
   "metadata": {},
   "outputs": [
    {
     "name": "stderr",
     "output_type": "stream",
     "text": [
      "C:\\Users\\admin\\AppData\\Local\\Temp\\ipykernel_13036\\2859160573.py:14: FutureWarning: The default of observed=False is deprecated and will be changed to True in a future version of pandas. Pass observed=False to retain current behavior or observed=True to adopt the future default and silence this warning.\n",
      "  income_shares = df_true.groupby('deciles')['inc'].sum() / df_true['inc'].sum()\n"
     ]
    },
    {
     "data": {
      "application/vnd.microsoft.datawrangler.viewer.v0+json": {
       "columns": [
        {
         "name": "deciles",
         "rawType": "category",
         "type": "unknown"
        },
        {
         "name": "inc",
         "rawType": "float64",
         "type": "float"
        }
       ],
       "ref": "cebfd627-8cee-4e43-9fcd-593cf7f60104",
       "rows": [
        [
         "1",
         "0.01411188409416229"
        ],
        [
         "2",
         "0.027631648736228566"
        ],
        [
         "3",
         "0.03719545174248456"
        ],
        [
         "4",
         "0.0499227921302599"
        ],
        [
         "5",
         "0.06494589390884076"
        ],
        [
         "6",
         "0.07917429262272555"
        ],
        [
         "7",
         "0.0999963923039955"
        ],
        [
         "8",
         "0.126800415865656"
        ],
        [
         "9",
         "0.17884981235188283"
        ],
        [
         "10",
         "0.32137141624376414"
        ]
       ],
       "shape": {
        "columns": 1,
        "rows": 10
       }
      },
      "text/plain": [
       "deciles\n",
       "1     0.014112\n",
       "2     0.027632\n",
       "3     0.037195\n",
       "4     0.049923\n",
       "5     0.064946\n",
       "6     0.079174\n",
       "7     0.099996\n",
       "8     0.126800\n",
       "9     0.178850\n",
       "10    0.321371\n",
       "Name: inc, dtype: float64"
      ]
     },
     "metadata": {},
     "output_type": "display_data"
    }
   ],
   "source": [
    "# Create the deciles - Jeppe does this using list comprehension but I just do it manually\n",
    "deciles = df_true.quantile([.1, .2, .3, .4, .5, .6, .7, .8, .9])\n",
    "# the quantile method returns the value at each requested quantile for each column(unless another axis is specified)\n",
    "\n",
    "# We can use the above computed deciles as bins in the cut function. We add -inf and inf to make sure all values are included\n",
    "df_true['deciles'] = pd.cut(df_true['inc'], bins=[-np.inf] + list(deciles['inc']) + [np.inf], labels=range(1,11))\n",
    "\n",
    "# Alternatively we can use the qcut function that does the same in one step\n",
    "# This seperates into quantiles directly, 10 is for deciles\n",
    "df_true['decile'] = pd.qcut(df_true['inc'], 10, labels=range(1,11))\n",
    "\n",
    "# Using the group by method we can now compute the income shares by decile\n",
    "# You can read it as: take the sum of income for each decile, then divide by the total income\n",
    "income_shares = df_true.groupby('deciles')['inc'].sum() / df_true['inc'].sum()\n",
    "\n",
    "# Check that the cut and qcut solutions are the same\n",
    "#income_shares_extra = df_true.groupby('decile')['inc'].sum() / df_true['inc'].sum()\n",
    "#np.isclose(income_shares,income_shares_extra)\n",
    "\n",
    "display(income_shares)\n",
    "# display is a bit better than print for dataframes and series"
   ]
  },
  {
   "cell_type": "markdown",
   "metadata": {},
   "source": [
    "#### Bonus\n",
    "\n",
    "Try to plot the distribution of income using matplotlib and the histogram method. Unhide to see solution"
   ]
  },
  {
   "cell_type": "code",
   "execution_count": 37,
   "metadata": {},
   "outputs": [
    {
     "data": {
      "image/png": "[encoded data removed]",
      "text/plain": [
       "<Figure size 1000x600 with 1 Axes>"
      ]
     },
     "metadata": {},
     "output_type": "display_data"
    }
   ],
   "source": [
    "fig = plt.figure(figsize=(10,6))\n",
    "ax = fig.add_subplot(1,1,1)\n",
    "ax.hist(df_true['inc'], bins=10, edgecolor='black', alpha=0.7)\n",
    "ax.set_xlabel('Income')\n",
    "ax.set_ylabel('Frequency')\n",
    "ax.set_title('Income Distribution Histogram')\n",
    "plt.show();"
   ]
  },
  {
   "cell_type": "markdown",
   "metadata": {},
   "source": [
    "## 2. <a id='toc2_'></a>[National account identity](#toc0_)"
   ]
  },
  {
   "cell_type": "markdown",
   "metadata": {},
   "source": [
    "### 2.1. <a id='toc2_1_'></a>[Download](#toc0_)"
   ]
  },
  {
   "cell_type": "markdown",
   "metadata": {},
   "source": [
    "Consider the following dictionary definitions:"
   ]
  },
  {
   "cell_type": "code",
   "execution_count": 19,
   "metadata": {},
   "outputs": [],
   "source": [
    "# Here Jeppe has created dictionaries to map the variable names from the API to more standard names\n",
    "# and to map the variable and unit names to shorter versions\n",
    "# You can use these dictionaries in the rename method to rename the columns and to map the variable\n",
    "\n",
    "columns_dict = {}\n",
    "columns_dict['TRANSAKT'] = 'variable'\n",
    "columns_dict['PRISENHED'] = 'unit'\n",
    "columns_dict['TID'] = 'year'\n",
    "columns_dict['INDHOLD'] = 'value'\n",
    "\n",
    "var_dict = {} # var is for variable\n",
    "var_dict['P.1 Output'] = 'Y'\n",
    "var_dict['P.3 Final consumption expenditure'] = 'C'\n",
    "var_dict['P.3 Government consumption expenditure'] = 'G'\n",
    "var_dict['P.5 Gross capital formation'] = 'I'\n",
    "var_dict['P.6 Export of goods and services'] = 'X'\n",
    "var_dict['P.7 Import of goods and services'] = 'M'\n",
    "\n",
    "unit_dict = {}\n",
    "unit_dict['2020-prices, chained values'] = 'real'\n",
    "unit_dict['Current prices'] = 'nominal'"
   ]
  },
  {
   "cell_type": "markdown",
   "metadata": {},
   "source": [
    "**Step 1:** Download all of table `nah1`."
   ]
  },
  {
   "cell_type": "code",
   "execution_count": 20,
   "metadata": {},
   "outputs": [
    {
     "data": {
      "text/plain": [
       "{'table': 'nah1',\n",
       " 'format': 'BULK',\n",
       " 'lang': 'en',\n",
       " 'variables': [{'code': 'TRANSAKT', 'values': ['*']},\n",
       "  {'code': 'PRISENHED', 'values': ['*']},\n",
       "  {'code': 'Tid', 'values': ['*']}]}"
      ]
     },
     "metadata": {},
     "output_type": "display_data"
    }
   ],
   "source": [
    "# Use the DST API to make an API for the nah1 dataset\n",
    "nah1_api = DstApi('nah1') \n",
    "# Use the api to get a dictionary of parameter names in english\n",
    "params = nah1_api._define_base_params(language='en')\n",
    "# When looking at the parameters we see e.g. that the table name is 'nah1'\n",
    "display(params)\n",
    "# Use the api to get the data with the parameters just defined\n",
    "nah1 = nah1_api.get_data(params=params)"
   ]
  },
  {
   "cell_type": "markdown",
   "metadata": {},
   "source": [
    "**Step 2:** Rename the columns using `columns_dict` and replace data using `var_dict` and `unit_dict`."
   ]
  },
  {
   "cell_type": "code",
   "execution_count": 21,
   "metadata": {},
   "outputs": [],
   "source": [
    "# renaming the columns using the columns_dict\n",
    "nah1 = nah1.rename(columns=columns_dict)\n",
    "\n",
    "# renaming the variables using the var_dict and unit_dict\n",
    "# Looping through the key and value in the dictionaries, we replace the every row\n",
    "# named the same as the key with the value\n",
    "for key,value in var_dict.items():\n",
    "   nah1.variable = nah1.variable.replace(key,value)\n",
    "\n",
    "for key,value in unit_dict.items():\n",
    "   nah1.unit = nah1.unit.replace(key,value)"
   ]
  },
  {
   "cell_type": "markdown",
   "metadata": {},
   "source": [
    "**Step 3:** Only keep rows where the variable is in `[Y, C, G, I, X, M]`. Afterwards convert the `value` column to a float."
   ]
  },
  {
   "cell_type": "code",
   "execution_count": 22,
   "metadata": {},
   "outputs": [],
   "source": [
    "# Keep only the variables in var_dict\n",
    "# We use the or operator | to keep the true values from previous iterations\n",
    "I = False\n",
    "for key,value in var_dict.items():\n",
    "    I = I | (nah1.variable == value)\n",
    "nah1 = nah1.loc[I]\n",
    "\n",
    "# Convert the value column to float\n",
    "nah1.value = nah1.value.astype('float')"
   ]
  },
  {
   "cell_type": "markdown",
   "metadata": {},
   "source": [
    "**Step 4:** Discuss what the following summary statistics show."
   ]
  },
  {
   "cell_type": "code",
   "execution_count": 23,
   "metadata": {},
   "outputs": [
    {
     "data": {
      "application/vnd.microsoft.datawrangler.viewer.v0+json": {
       "columns": [
        {
         "name": "('variable', 'unit')",
         "rawType": "object",
         "type": "unknown"
        },
        {
         "name": "('year', 'count')",
         "rawType": "float64",
         "type": "float"
        },
        {
         "name": "('year', 'mean')",
         "rawType": "float64",
         "type": "float"
        },
        {
         "name": "('year', 'std')",
         "rawType": "float64",
         "type": "float"
        },
        {
         "name": "('year', 'min')",
         "rawType": "float64",
         "type": "float"
        },
        {
         "name": "('year', '25%')",
         "rawType": "float64",
         "type": "float"
        },
        {
         "name": "('year', '50%')",
         "rawType": "float64",
         "type": "float"
        },
        {
         "name": "('year', '75%')",
         "rawType": "float64",
         "type": "float"
        },
        {
         "name": "('year', 'max')",
         "rawType": "float64",
         "type": "float"
        },
        {
         "name": "('value', 'count')",
         "rawType": "float64",
         "type": "float"
        },
        {
         "name": "('value', 'mean')",
         "rawType": "float64",
         "type": "float"
        },
        {
         "name": "('value', 'std')",
         "rawType": "float64",
         "type": "float"
        },
        {
         "name": "('value', 'min')",
         "rawType": "float64",
         "type": "float"
        },
        {
         "name": "('value', '25%')",
         "rawType": "float64",
         "type": "float"
        },
        {
         "name": "('value', '50%')",
         "rawType": "float64",
         "type": "float"
        },
        {
         "name": "('value', '75%')",
         "rawType": "float64",
         "type": "float"
        },
        {
         "name": "('value', 'max')",
         "rawType": "float64",
         "type": "float"
        }
       ],
       "ref": "f29e9937-4862-436f-9018-bcf08f6b1cdf",
       "rows": [
        [
         "('C', 'nominal')",
         "59.0",
         "1995.0",
         "17.175564037317667",
         "1966.0",
         "1980.5",
         "1995.0",
         "2009.5",
         "2024.0",
         "59.0",
         "846174.0508474576",
         "565218.7917071683",
         "62576.0",
         "338655.0",
         "772989.0",
         "1343689.5",
         "1947969.0"
        ],
        [
         "('C', 'real')",
         "59.0",
         "1995.0",
         "17.175564037317667",
         "1966.0",
         "1980.5",
         "1995.0",
         "2009.5",
         "2024.0",
         "59.0",
         "1189017.3898305085",
         "332650.19052478083",
         "587078.0",
         "922289.0",
         "1160977.0",
         "1494856.0",
         "1755213.0"
        ],
        [
         "('G', 'nominal')",
         "59.0",
         "1995.0",
         "17.175564037317667",
         "1966.0",
         "1980.5",
         "1995.0",
         "2009.5",
         "2024.0",
         "59.0",
         "286340.8474576271",
         "198427.30975189098",
         "14768.0",
         "112034.5",
         "249320.0",
         "486655.5",
         "672154.0"
        ],
        [
         "('G', 'real')",
         "59.0",
         "1995.0",
         "17.175564037317667",
         "1966.0",
         "1980.5",
         "1995.0",
         "2009.5",
         "2024.0",
         "59.0",
         "420284.0",
         "119778.19902147296",
         "189310.0",
         "345416.5",
         "401675.0",
         "543117.5",
         "604346.0"
        ],
        [
         "('I', 'nominal')",
         "59.0",
         "1995.0",
         "17.175564037317667",
         "1966.0",
         "1980.5",
         "1995.0",
         "2009.5",
         "2024.0",
         "59.0",
         "252519.49152542374",
         "184618.19156174752",
         "21134.0",
         "83003.0",
         "213795.0",
         "369267.0",
         "701509.0"
        ],
        [
         "('I', 'real')",
         "59.0",
         "1995.0",
         "17.175564037317667",
         "1966.0",
         "1980.5",
         "1995.0",
         "2009.5",
         "2024.0",
         "59.0",
         "320885.33898305084",
         "135466.8758732135",
         "137948.0",
         "201830.5",
         "294707.0",
         "408268.5",
         "634575.0"
        ],
        [
         "('M', 'nominal')",
         "59.0",
         "1995.0",
         "17.175564037317667",
         "1966.0",
         "1980.5",
         "1995.0",
         "2009.5",
         "2024.0",
         "59.0",
         "516323.74576271186",
         "468302.66717526683",
         "24406.0",
         "142456.0",
         "331225.0",
         "867015.5",
         "1778459.0"
        ],
        [
         "('M', 'real')",
         "59.0",
         "1995.0",
         "17.175564037317667",
         "1966.0",
         "1980.5",
         "1995.0",
         "2009.5",
         "2024.0",
         "59.0",
         "558392.220338983",
         "386417.56058565434",
         "116721.0",
         "225218.5",
         "404314.0",
         "891169.0",
         "1424070.0"
        ],
        [
         "('X', 'nominal')",
         "59.0",
         "1995.0",
         "17.175564037317667",
         "1966.0",
         "1980.5",
         "1995.0",
         "2009.5",
         "2024.0",
         "59.0",
         "580295.1525423729",
         "535315.7762679318",
         "23110.0",
         "144654.0",
         "380037.0",
         "946940.5",
         "2078142.0"
        ],
        [
         "('X', 'real')",
         "59.0",
         "1995.0",
         "17.175564037317667",
         "1966.0",
         "1980.5",
         "1995.0",
         "2009.5",
         "2024.0",
         "59.0",
         "665785.7966101695",
         "441110.24931931036",
         "129917.0",
         "275983.5",
         "529614.0",
         "1042024.0",
         "1697515.0"
        ],
        [
         "('Y', 'nominal')",
         "59.0",
         "1995.0",
         "17.175564037317667",
         "1966.0",
         "1980.5",
         "1995.0",
         "2009.5",
         "2024.0",
         "59.0",
         "2007043.5423728814",
         "1465045.5505087646",
         "144582.0",
         "714095.5",
         "1685585.0",
         "3196822.0",
         "5326389.0"
        ],
        [
         "('Y', 'real')",
         "59.0",
         "1995.0",
         "17.175564037317667",
         "1966.0",
         "1980.5",
         "1995.0",
         "2009.5",
         "2024.0",
         "59.0",
         "2704754.966101695",
         "993386.056746509",
         "1214124.0",
         "1802968.5",
         "2547923.0",
         "3591186.0",
         "4552586.0"
        ]
       ],
       "shape": {
        "columns": 16,
        "rows": 12
       }
      },
      "text/html": [
       "<div>\n",
       "<style scoped>\n",
       "    .dataframe tbody tr th:only-of-type {\n",
       "        vertical-align: middle;\n",
       "    }\n",
       "\n",
       "    .dataframe tbody tr th {\n",
       "        vertical-align: top;\n",
       "    }\n",
       "\n",
       "    .dataframe thead tr th {\n",
       "        text-align: left;\n",
       "    }\n",
       "\n",
       "    .dataframe thead tr:last-of-type th {\n",
       "        text-align: right;\n",
       "    }\n",
       "</style>\n",
       "<table border=\"1\" class=\"dataframe\">\n",
       "  <thead>\n",
       "    <tr>\n",
       "      <th></th>\n",
       "      <th></th>\n",
       "      <th colspan=\"8\" halign=\"left\">year</th>\n",
       "      <th colspan=\"8\" halign=\"left\">value</th>\n",
       "    </tr>\n",
       "    <tr>\n",
       "      <th></th>\n",
       "      <th></th>\n",
       "      <th>count</th>\n",
       "      <th>mean</th>\n",
       "      <th>std</th>\n",
       "      <th>min</th>\n",
       "      <th>25%</th>\n",
       "      <th>50%</th>\n",
       "      <th>75%</th>\n",
       "      <th>max</th>\n",
       "      <th>count</th>\n",
       "      <th>mean</th>\n",
       "      <th>std</th>\n",
       "      <th>min</th>\n",
       "      <th>25%</th>\n",
       "      <th>50%</th>\n",
       "      <th>75%</th>\n",
       "      <th>max</th>\n",
       "    </tr>\n",
       "    <tr>\n",
       "      <th>variable</th>\n",
       "      <th>unit</th>\n",
       "      <th></th>\n",
       "      <th></th>\n",
       "      <th></th>\n",
       "      <th></th>\n",
       "      <th></th>\n",
       "      <th></th>\n",
       "      <th></th>\n",
       "      <th></th>\n",
       "      <th></th>\n",
       "      <th></th>\n",
       "      <th></th>\n",
       "      <th></th>\n",
       "      <th></th>\n",
       "      <th></th>\n",
       "      <th></th>\n",
       "      <th></th>\n",
       "    </tr>\n",
       "  </thead>\n",
       "  <tbody>\n",
       "    <tr>\n",
       "      <th rowspan=\"2\" valign=\"top\">C</th>\n",
       "      <th>nominal</th>\n",
       "      <td>59.0</td>\n",
       "      <td>1995.0</td>\n",
       "      <td>17.175564</td>\n",
       "      <td>1966.0</td>\n",
       "      <td>1980.5</td>\n",
       "      <td>1995.0</td>\n",
       "      <td>2009.5</td>\n",
       "      <td>2024.0</td>\n",
       "      <td>59.0</td>\n",
       "      <td>8.461741e+05</td>\n",
       "      <td>5.652188e+05</td>\n",
       "      <td>62576.0</td>\n",
       "      <td>338655.0</td>\n",
       "      <td>772989.0</td>\n",
       "      <td>1343689.5</td>\n",
       "      <td>1947969.0</td>\n",
       "    </tr>\n",
       "    <tr>\n",
       "      <th>real</th>\n",
       "      <td>59.0</td>\n",
       "      <td>1995.0</td>\n",
       "      <td>17.175564</td>\n",
       "      <td>1966.0</td>\n",
       "      <td>1980.5</td>\n",
       "      <td>1995.0</td>\n",
       "      <td>2009.5</td>\n",
       "      <td>2024.0</td>\n",
       "      <td>59.0</td>\n",
       "      <td>1.189017e+06</td>\n",
       "      <td>3.326502e+05</td>\n",
       "      <td>587078.0</td>\n",
       "      <td>922289.0</td>\n",
       "      <td>1160977.0</td>\n",
       "      <td>1494856.0</td>\n",
       "      <td>1755213.0</td>\n",
       "    </tr>\n",
       "    <tr>\n",
       "      <th rowspan=\"2\" valign=\"top\">G</th>\n",
       "      <th>nominal</th>\n",
       "      <td>59.0</td>\n",
       "      <td>1995.0</td>\n",
       "      <td>17.175564</td>\n",
       "      <td>1966.0</td>\n",
       "      <td>1980.5</td>\n",
       "      <td>1995.0</td>\n",
       "      <td>2009.5</td>\n",
       "      <td>2024.0</td>\n",
       "      <td>59.0</td>\n",
       "      <td>2.863408e+05</td>\n",
       "      <td>1.984273e+05</td>\n",
       "      <td>14768.0</td>\n",
       "      <td>112034.5</td>\n",
       "      <td>249320.0</td>\n",
       "      <td>486655.5</td>\n",
       "      <td>672154.0</td>\n",
       "    </tr>\n",
       "    <tr>\n",
       "      <th>real</th>\n",
       "      <td>59.0</td>\n",
       "      <td>1995.0</td>\n",
       "      <td>17.175564</td>\n",
       "      <td>1966.0</td>\n",
       "      <td>1980.5</td>\n",
       "      <td>1995.0</td>\n",
       "      <td>2009.5</td>\n",
       "      <td>2024.0</td>\n",
       "      <td>59.0</td>\n",
       "      <td>4.202840e+05</td>\n",
       "      <td>1.197782e+05</td>\n",
       "      <td>189310.0</td>\n",
       "      <td>345416.5</td>\n",
       "      <td>401675.0</td>\n",
       "      <td>543117.5</td>\n",
       "      <td>604346.0</td>\n",
       "    </tr>\n",
       "    <tr>\n",
       "      <th rowspan=\"2\" valign=\"top\">I</th>\n",
       "      <th>nominal</th>\n",
       "      <td>59.0</td>\n",
       "      <td>1995.0</td>\n",
       "      <td>17.175564</td>\n",
       "      <td>1966.0</td>\n",
       "      <td>1980.5</td>\n",
       "      <td>1995.0</td>\n",
       "      <td>2009.5</td>\n",
       "      <td>2024.0</td>\n",
       "      <td>59.0</td>\n",
       "      <td>2.525195e+05</td>\n",
       "      <td>1.846182e+05</td>\n",
       "      <td>21134.0</td>\n",
       "      <td>83003.0</td>\n",
       "      <td>213795.0</td>\n",
       "      <td>369267.0</td>\n",
       "      <td>701509.0</td>\n",
       "    </tr>\n",
       "    <tr>\n",
       "      <th>real</th>\n",
       "      <td>59.0</td>\n",
       "      <td>1995.0</td>\n",
       "      <td>17.175564</td>\n",
       "      <td>1966.0</td>\n",
       "      <td>1980.5</td>\n",
       "      <td>1995.0</td>\n",
       "      <td>2009.5</td>\n",
       "      <td>2024.0</td>\n",
       "      <td>59.0</td>\n",
       "      <td>3.208853e+05</td>\n",
       "      <td>1.354669e+05</td>\n",
       "      <td>137948.0</td>\n",
       "      <td>201830.5</td>\n",
       "      <td>294707.0</td>\n",
       "      <td>408268.5</td>\n",
       "      <td>634575.0</td>\n",
       "    </tr>\n",
       "    <tr>\n",
       "      <th rowspan=\"2\" valign=\"top\">M</th>\n",
       "      <th>nominal</th>\n",
       "      <td>59.0</td>\n",
       "      <td>1995.0</td>\n",
       "      <td>17.175564</td>\n",
       "      <td>1966.0</td>\n",
       "      <td>1980.5</td>\n",
       "      <td>1995.0</td>\n",
       "      <td>2009.5</td>\n",
       "      <td>2024.0</td>\n",
       "      <td>59.0</td>\n",
       "      <td>5.163237e+05</td>\n",
       "      <td>4.683027e+05</td>\n",
       "      <td>24406.0</td>\n",
       "      <td>142456.0</td>\n",
       "      <td>331225.0</td>\n",
       "      <td>867015.5</td>\n",
       "      <td>1778459.0</td>\n",
       "    </tr>\n",
       "    <tr>\n",
       "      <th>real</th>\n",
       "      <td>59.0</td>\n",
       "      <td>1995.0</td>\n",
       "      <td>17.175564</td>\n",
       "      <td>1966.0</td>\n",
       "      <td>1980.5</td>\n",
       "      <td>1995.0</td>\n",
       "      <td>2009.5</td>\n",
       "      <td>2024.0</td>\n",
       "      <td>59.0</td>\n",
       "      <td>5.583922e+05</td>\n",
       "      <td>3.864176e+05</td>\n",
       "      <td>116721.0</td>\n",
       "      <td>225218.5</td>\n",
       "      <td>404314.0</td>\n",
       "      <td>891169.0</td>\n",
       "      <td>1424070.0</td>\n",
       "    </tr>\n",
       "    <tr>\n",
       "      <th rowspan=\"2\" valign=\"top\">X</th>\n",
       "      <th>nominal</th>\n",
       "      <td>59.0</td>\n",
       "      <td>1995.0</td>\n",
       "      <td>17.175564</td>\n",
       "      <td>1966.0</td>\n",
       "      <td>1980.5</td>\n",
       "      <td>1995.0</td>\n",
       "      <td>2009.5</td>\n",
       "      <td>2024.0</td>\n",
       "      <td>59.0</td>\n",
       "      <td>5.802952e+05</td>\n",
       "      <td>5.353158e+05</td>\n",
       "      <td>23110.0</td>\n",
       "      <td>144654.0</td>\n",
       "      <td>380037.0</td>\n",
       "      <td>946940.5</td>\n",
       "      <td>2078142.0</td>\n",
       "    </tr>\n",
       "    <tr>\n",
       "      <th>real</th>\n",
       "      <td>59.0</td>\n",
       "      <td>1995.0</td>\n",
       "      <td>17.175564</td>\n",
       "      <td>1966.0</td>\n",
       "      <td>1980.5</td>\n",
       "      <td>1995.0</td>\n",
       "      <td>2009.5</td>\n",
       "      <td>2024.0</td>\n",
       "      <td>59.0</td>\n",
       "      <td>6.657858e+05</td>\n",
       "      <td>4.411102e+05</td>\n",
       "      <td>129917.0</td>\n",
       "      <td>275983.5</td>\n",
       "      <td>529614.0</td>\n",
       "      <td>1042024.0</td>\n",
       "      <td>1697515.0</td>\n",
       "    </tr>\n",
       "    <tr>\n",
       "      <th rowspan=\"2\" valign=\"top\">Y</th>\n",
       "      <th>nominal</th>\n",
       "      <td>59.0</td>\n",
       "      <td>1995.0</td>\n",
       "      <td>17.175564</td>\n",
       "      <td>1966.0</td>\n",
       "      <td>1980.5</td>\n",
       "      <td>1995.0</td>\n",
       "      <td>2009.5</td>\n",
       "      <td>2024.0</td>\n",
       "      <td>59.0</td>\n",
       "      <td>2.007044e+06</td>\n",
       "      <td>1.465046e+06</td>\n",
       "      <td>144582.0</td>\n",
       "      <td>714095.5</td>\n",
       "      <td>1685585.0</td>\n",
       "      <td>3196822.0</td>\n",
       "      <td>5326389.0</td>\n",
       "    </tr>\n",
       "    <tr>\n",
       "      <th>real</th>\n",
       "      <td>59.0</td>\n",
       "      <td>1995.0</td>\n",
       "      <td>17.175564</td>\n",
       "      <td>1966.0</td>\n",
       "      <td>1980.5</td>\n",
       "      <td>1995.0</td>\n",
       "      <td>2009.5</td>\n",
       "      <td>2024.0</td>\n",
       "      <td>59.0</td>\n",
       "      <td>2.704755e+06</td>\n",
       "      <td>9.933861e+05</td>\n",
       "      <td>1214124.0</td>\n",
       "      <td>1802968.5</td>\n",
       "      <td>2547923.0</td>\n",
       "      <td>3591186.0</td>\n",
       "      <td>4552586.0</td>\n",
       "    </tr>\n",
       "  </tbody>\n",
       "</table>\n",
       "</div>"
      ],
      "text/plain": [
       "                  year                                                     \\\n",
       "                 count    mean        std     min     25%     50%     75%   \n",
       "variable unit                                                               \n",
       "C        nominal  59.0  1995.0  17.175564  1966.0  1980.5  1995.0  2009.5   \n",
       "         real     59.0  1995.0  17.175564  1966.0  1980.5  1995.0  2009.5   \n",
       "G        nominal  59.0  1995.0  17.175564  1966.0  1980.5  1995.0  2009.5   \n",
       "         real     59.0  1995.0  17.175564  1966.0  1980.5  1995.0  2009.5   \n",
       "I        nominal  59.0  1995.0  17.175564  1966.0  1980.5  1995.0  2009.5   \n",
       "         real     59.0  1995.0  17.175564  1966.0  1980.5  1995.0  2009.5   \n",
       "M        nominal  59.0  1995.0  17.175564  1966.0  1980.5  1995.0  2009.5   \n",
       "         real     59.0  1995.0  17.175564  1966.0  1980.5  1995.0  2009.5   \n",
       "X        nominal  59.0  1995.0  17.175564  1966.0  1980.5  1995.0  2009.5   \n",
       "         real     59.0  1995.0  17.175564  1966.0  1980.5  1995.0  2009.5   \n",
       "Y        nominal  59.0  1995.0  17.175564  1966.0  1980.5  1995.0  2009.5   \n",
       "         real     59.0  1995.0  17.175564  1966.0  1980.5  1995.0  2009.5   \n",
       "\n",
       "                         value                                         \\\n",
       "                     max count          mean           std        min   \n",
       "variable unit                                                           \n",
       "C        nominal  2024.0  59.0  8.461741e+05  5.652188e+05    62576.0   \n",
       "         real     2024.0  59.0  1.189017e+06  3.326502e+05   587078.0   \n",
       "G        nominal  2024.0  59.0  2.863408e+05  1.984273e+05    14768.0   \n",
       "         real     2024.0  59.0  4.202840e+05  1.197782e+05   189310.0   \n",
       "I        nominal  2024.0  59.0  2.525195e+05  1.846182e+05    21134.0   \n",
       "         real     2024.0  59.0  3.208853e+05  1.354669e+05   137948.0   \n",
       "M        nominal  2024.0  59.0  5.163237e+05  4.683027e+05    24406.0   \n",
       "         real     2024.0  59.0  5.583922e+05  3.864176e+05   116721.0   \n",
       "X        nominal  2024.0  59.0  5.802952e+05  5.353158e+05    23110.0   \n",
       "         real     2024.0  59.0  6.657858e+05  4.411102e+05   129917.0   \n",
       "Y        nominal  2024.0  59.0  2.007044e+06  1.465046e+06   144582.0   \n",
       "         real     2024.0  59.0  2.704755e+06  9.933861e+05  1214124.0   \n",
       "\n",
       "                                                              \n",
       "                        25%        50%        75%        max  \n",
       "variable unit                                                 \n",
       "C        nominal   338655.0   772989.0  1343689.5  1947969.0  \n",
       "         real      922289.0  1160977.0  1494856.0  1755213.0  \n",
       "G        nominal   112034.5   249320.0   486655.5   672154.0  \n",
       "         real      345416.5   401675.0   543117.5   604346.0  \n",
       "I        nominal    83003.0   213795.0   369267.0   701509.0  \n",
       "         real      201830.5   294707.0   408268.5   634575.0  \n",
       "M        nominal   142456.0   331225.0   867015.5  1778459.0  \n",
       "         real      225218.5   404314.0   891169.0  1424070.0  \n",
       "X        nominal   144654.0   380037.0   946940.5  2078142.0  \n",
       "         real      275983.5   529614.0  1042024.0  1697515.0  \n",
       "Y        nominal   714095.5  1685585.0  3196822.0  5326389.0  \n",
       "         real     1802968.5  2547923.0  3591186.0  4552586.0  "
      ]
     },
     "execution_count": 23,
     "metadata": {},
     "output_type": "execute_result"
    }
   ],
   "source": [
    "nah1.groupby(['variable','unit']).describe()\n",
    "# I'll let you interpret the results, but one quick looks shows that there has been growth in all variables"
   ]
  },
  {
   "cell_type": "markdown",
   "metadata": {},
   "source": [
    "**Step 5:** Sort the dataset by year"
   ]
  },
  {
   "cell_type": "code",
   "execution_count": 24,
   "metadata": {},
   "outputs": [
    {
     "data": {
      "application/vnd.microsoft.datawrangler.viewer.v0+json": {
       "columns": [
        {
         "name": "index",
         "rawType": "int64",
         "type": "integer"
        },
        {
         "name": "variable",
         "rawType": "object",
         "type": "string"
        },
        {
         "name": "unit",
         "rawType": "object",
         "type": "string"
        },
        {
         "name": "year",
         "rawType": "int64",
         "type": "integer"
        },
        {
         "name": "value",
         "rawType": "float64",
         "type": "float"
        }
       ],
       "ref": "f3ccd8db-b61c-4419-a59c-da588fdc8207",
       "rows": [
        [
         "1964",
         "X",
         "real",
         "1966",
         "129917.0"
        ],
        [
         "1965",
         "X",
         "nominal",
         "1966",
         "23110.0"
        ],
        [
         "1970",
         "M",
         "real",
         "1966",
         "116721.0"
        ],
        [
         "1971",
         "M",
         "nominal",
         "1966",
         "24406.0"
        ],
        [
         "1945",
         "G",
         "nominal",
         "1966",
         "14768.0"
        ]
       ],
       "shape": {
        "columns": 4,
        "rows": 5
       }
      },
      "text/html": [
       "<div>\n",
       "<style scoped>\n",
       "    .dataframe tbody tr th:only-of-type {\n",
       "        vertical-align: middle;\n",
       "    }\n",
       "\n",
       "    .dataframe tbody tr th {\n",
       "        vertical-align: top;\n",
       "    }\n",
       "\n",
       "    .dataframe thead th {\n",
       "        text-align: right;\n",
       "    }\n",
       "</style>\n",
       "<table border=\"1\" class=\"dataframe\">\n",
       "  <thead>\n",
       "    <tr style=\"text-align: right;\">\n",
       "      <th></th>\n",
       "      <th>variable</th>\n",
       "      <th>unit</th>\n",
       "      <th>year</th>\n",
       "      <th>value</th>\n",
       "    </tr>\n",
       "  </thead>\n",
       "  <tbody>\n",
       "    <tr>\n",
       "      <th>1964</th>\n",
       "      <td>X</td>\n",
       "      <td>real</td>\n",
       "      <td>1966</td>\n",
       "      <td>129917.0</td>\n",
       "    </tr>\n",
       "    <tr>\n",
       "      <th>1965</th>\n",
       "      <td>X</td>\n",
       "      <td>nominal</td>\n",
       "      <td>1966</td>\n",
       "      <td>23110.0</td>\n",
       "    </tr>\n",
       "    <tr>\n",
       "      <th>1970</th>\n",
       "      <td>M</td>\n",
       "      <td>real</td>\n",
       "      <td>1966</td>\n",
       "      <td>116721.0</td>\n",
       "    </tr>\n",
       "    <tr>\n",
       "      <th>1971</th>\n",
       "      <td>M</td>\n",
       "      <td>nominal</td>\n",
       "      <td>1966</td>\n",
       "      <td>24406.0</td>\n",
       "    </tr>\n",
       "    <tr>\n",
       "      <th>1945</th>\n",
       "      <td>G</td>\n",
       "      <td>nominal</td>\n",
       "      <td>1966</td>\n",
       "      <td>14768.0</td>\n",
       "    </tr>\n",
       "  </tbody>\n",
       "</table>\n",
       "</div>"
      ],
      "text/plain": [
       "     variable     unit  year     value\n",
       "1964        X     real  1966  129917.0\n",
       "1965        X  nominal  1966   23110.0\n",
       "1970        M     real  1966  116721.0\n",
       "1971        M  nominal  1966   24406.0\n",
       "1945        G  nominal  1966   14768.0"
      ]
     },
     "execution_count": 24,
     "metadata": {},
     "output_type": "execute_result"
    }
   ],
   "source": [
    "nah1 = nah1.sort_values(by='year')\n",
    "nah1.head()"
   ]
  },
  {
   "cell_type": "markdown",
   "metadata": {},
   "source": [
    "### 2.2. <a id='toc2_2_'></a>[Merge](#toc0_)"
   ]
  },
  {
   "cell_type": "markdown",
   "metadata": {},
   "source": [
    "Load population data from Denmark Statistics:"
   ]
  },
  {
   "cell_type": "code",
   "execution_count": 25,
   "metadata": {},
   "outputs": [
    {
     "data": {
      "text/plain": [
       "{'table': 'befolk1',\n",
       " 'format': 'BULK',\n",
       " 'lang': 'en',\n",
       " 'variables': [{'code': 'KØN', 'values': ['*']},\n",
       "  {'code': 'ALDER', 'values': ['*']},\n",
       "  {'code': 'CIVILSTAND', 'values': ['*']},\n",
       "  {'code': 'Tid', 'values': ['*']}]}"
      ]
     },
     "metadata": {},
     "output_type": "display_data"
    }
   ],
   "source": [
    "BEFOLK1_api = DstApi('BEFOLK1')\n",
    "params = BEFOLK1_api._define_base_params(language='en')\n",
    "display(params)"
   ]
  },
  {
   "cell_type": "code",
   "execution_count": 26,
   "metadata": {},
   "outputs": [
    {
     "name": "stdout",
     "output_type": "stream",
     "text": [
      "KØN\n"
     ]
    },
    {
     "data": {
      "application/vnd.microsoft.datawrangler.viewer.v0+json": {
       "columns": [
        {
         "name": "index",
         "rawType": "int64",
         "type": "integer"
        },
        {
         "name": "id",
         "rawType": "object",
         "type": "string"
        },
        {
         "name": "text",
         "rawType": "object",
         "type": "string"
        }
       ],
       "ref": "3bdff4b1-696d-4c2c-b091-d1c9a25b9b69",
       "rows": [
        [
         "0",
         "TOT",
         "I alt"
        ],
        [
         "1",
         "1",
         "Mænd"
        ],
        [
         "2",
         "2",
         "Kvinder"
        ]
       ],
       "shape": {
        "columns": 2,
        "rows": 3
       }
      },
      "text/html": [
       "<div>\n",
       "<style scoped>\n",
       "    .dataframe tbody tr th:only-of-type {\n",
       "        vertical-align: middle;\n",
       "    }\n",
       "\n",
       "    .dataframe tbody tr th {\n",
       "        vertical-align: top;\n",
       "    }\n",
       "\n",
       "    .dataframe thead th {\n",
       "        text-align: right;\n",
       "    }\n",
       "</style>\n",
       "<table border=\"1\" class=\"dataframe\">\n",
       "  <thead>\n",
       "    <tr style=\"text-align: right;\">\n",
       "      <th></th>\n",
       "      <th>id</th>\n",
       "      <th>text</th>\n",
       "    </tr>\n",
       "  </thead>\n",
       "  <tbody>\n",
       "    <tr>\n",
       "      <th>0</th>\n",
       "      <td>TOT</td>\n",
       "      <td>I alt</td>\n",
       "    </tr>\n",
       "    <tr>\n",
       "      <th>1</th>\n",
       "      <td>1</td>\n",
       "      <td>Mænd</td>\n",
       "    </tr>\n",
       "    <tr>\n",
       "      <th>2</th>\n",
       "      <td>2</td>\n",
       "      <td>Kvinder</td>\n",
       "    </tr>\n",
       "  </tbody>\n",
       "</table>\n",
       "</div>"
      ],
      "text/plain": [
       "    id     text\n",
       "0  TOT    I alt\n",
       "1    1     Mænd\n",
       "2    2  Kvinder"
      ]
     },
     "metadata": {},
     "output_type": "display_data"
    },
    {
     "name": "stdout",
     "output_type": "stream",
     "text": [
      "\n",
      "CIVILSTAND\n"
     ]
    },
    {
     "data": {
      "application/vnd.microsoft.datawrangler.viewer.v0+json": {
       "columns": [
        {
         "name": "index",
         "rawType": "int64",
         "type": "integer"
        },
        {
         "name": "id",
         "rawType": "object",
         "type": "string"
        },
        {
         "name": "text",
         "rawType": "object",
         "type": "string"
        }
       ],
       "ref": "4387f33d-4637-459d-822d-566379e496aa",
       "rows": [
        [
         "0",
         "TOT",
         "I alt"
        ],
        [
         "1",
         "U",
         "Ugift"
        ],
        [
         "2",
         "G",
         "Gift/separeret"
        ],
        [
         "3",
         "E",
         "Enke/enkemand"
        ],
        [
         "4",
         "F",
         "Fraskilt"
        ]
       ],
       "shape": {
        "columns": 2,
        "rows": 5
       }
      },
      "text/html": [
       "<div>\n",
       "<style scoped>\n",
       "    .dataframe tbody tr th:only-of-type {\n",
       "        vertical-align: middle;\n",
       "    }\n",
       "\n",
       "    .dataframe tbody tr th {\n",
       "        vertical-align: top;\n",
       "    }\n",
       "\n",
       "    .dataframe thead th {\n",
       "        text-align: right;\n",
       "    }\n",
       "</style>\n",
       "<table border=\"1\" class=\"dataframe\">\n",
       "  <thead>\n",
       "    <tr style=\"text-align: right;\">\n",
       "      <th></th>\n",
       "      <th>id</th>\n",
       "      <th>text</th>\n",
       "    </tr>\n",
       "  </thead>\n",
       "  <tbody>\n",
       "    <tr>\n",
       "      <th>0</th>\n",
       "      <td>TOT</td>\n",
       "      <td>I alt</td>\n",
       "    </tr>\n",
       "    <tr>\n",
       "      <th>1</th>\n",
       "      <td>U</td>\n",
       "      <td>Ugift</td>\n",
       "    </tr>\n",
       "    <tr>\n",
       "      <th>2</th>\n",
       "      <td>G</td>\n",
       "      <td>Gift/separeret</td>\n",
       "    </tr>\n",
       "    <tr>\n",
       "      <th>3</th>\n",
       "      <td>E</td>\n",
       "      <td>Enke/enkemand</td>\n",
       "    </tr>\n",
       "    <tr>\n",
       "      <th>4</th>\n",
       "      <td>F</td>\n",
       "      <td>Fraskilt</td>\n",
       "    </tr>\n",
       "  </tbody>\n",
       "</table>\n",
       "</div>"
      ],
      "text/plain": [
       "    id            text\n",
       "0  TOT           I alt\n",
       "1    U           Ugift\n",
       "2    G  Gift/separeret\n",
       "3    E   Enke/enkemand\n",
       "4    F        Fraskilt"
      ]
     },
     "metadata": {},
     "output_type": "display_data"
    },
    {
     "name": "stdout",
     "output_type": "stream",
     "text": [
      "\n"
     ]
    }
   ],
   "source": [
    "for code in ['KØN','CIVILSTAND']:\n",
    "    print(code)\n",
    "    display(BEFOLK1_api.variable_levels(code,language='en'))\n",
    "    print('')"
   ]
  },
  {
   "cell_type": "code",
   "execution_count": 27,
   "metadata": {},
   "outputs": [
    {
     "data": {
      "application/vnd.microsoft.datawrangler.viewer.v0+json": {
       "columns": [
        {
         "name": "index",
         "rawType": "int64",
         "type": "integer"
        },
        {
         "name": "KØN",
         "rawType": "object",
         "type": "string"
        },
        {
         "name": "ALDER",
         "rawType": "object",
         "type": "string"
        },
        {
         "name": "CIVILSTAND",
         "rawType": "object",
         "type": "string"
        },
        {
         "name": "TID",
         "rawType": "int64",
         "type": "integer"
        },
        {
         "name": "INDHOLD",
         "rawType": "int64",
         "type": "integer"
        }
       ],
       "ref": "ee90175f-41b5-4919-9e0d-50aadf6ed6db",
       "rows": [
        [
         "0",
         "Total",
         "Age, total",
         "Total",
         "1999",
         "5313577"
        ],
        [
         "1",
         "Total",
         "0 years",
         "Total",
         "1999",
         "66205"
        ],
        [
         "2",
         "Total",
         "1 year",
         "Total",
         "1999",
         "67983"
        ],
        [
         "3",
         "Total",
         "10 years",
         "Total",
         "1999",
         "61241"
        ],
        [
         "4",
         "Total",
         "11 years",
         "Total",
         "1999",
         "58580"
        ]
       ],
       "shape": {
        "columns": 5,
        "rows": 5
       }
      },
      "text/html": [
       "<div>\n",
       "<style scoped>\n",
       "    .dataframe tbody tr th:only-of-type {\n",
       "        vertical-align: middle;\n",
       "    }\n",
       "\n",
       "    .dataframe tbody tr th {\n",
       "        vertical-align: top;\n",
       "    }\n",
       "\n",
       "    .dataframe thead th {\n",
       "        text-align: right;\n",
       "    }\n",
       "</style>\n",
       "<table border=\"1\" class=\"dataframe\">\n",
       "  <thead>\n",
       "    <tr style=\"text-align: right;\">\n",
       "      <th></th>\n",
       "      <th>KØN</th>\n",
       "      <th>ALDER</th>\n",
       "      <th>CIVILSTAND</th>\n",
       "      <th>TID</th>\n",
       "      <th>INDHOLD</th>\n",
       "    </tr>\n",
       "  </thead>\n",
       "  <tbody>\n",
       "    <tr>\n",
       "      <th>0</th>\n",
       "      <td>Total</td>\n",
       "      <td>Age, total</td>\n",
       "      <td>Total</td>\n",
       "      <td>1999</td>\n",
       "      <td>5313577</td>\n",
       "    </tr>\n",
       "    <tr>\n",
       "      <th>1</th>\n",
       "      <td>Total</td>\n",
       "      <td>0 years</td>\n",
       "      <td>Total</td>\n",
       "      <td>1999</td>\n",
       "      <td>66205</td>\n",
       "    </tr>\n",
       "    <tr>\n",
       "      <th>2</th>\n",
       "      <td>Total</td>\n",
       "      <td>1 year</td>\n",
       "      <td>Total</td>\n",
       "      <td>1999</td>\n",
       "      <td>67983</td>\n",
       "    </tr>\n",
       "    <tr>\n",
       "      <th>3</th>\n",
       "      <td>Total</td>\n",
       "      <td>10 years</td>\n",
       "      <td>Total</td>\n",
       "      <td>1999</td>\n",
       "      <td>61241</td>\n",
       "    </tr>\n",
       "    <tr>\n",
       "      <th>4</th>\n",
       "      <td>Total</td>\n",
       "      <td>11 years</td>\n",
       "      <td>Total</td>\n",
       "      <td>1999</td>\n",
       "      <td>58580</td>\n",
       "    </tr>\n",
       "  </tbody>\n",
       "</table>\n",
       "</div>"
      ],
      "text/plain": [
       "     KØN       ALDER CIVILSTAND   TID  INDHOLD\n",
       "0  Total  Age, total      Total  1999  5313577\n",
       "1  Total     0 years      Total  1999    66205\n",
       "2  Total      1 year      Total  1999    67983\n",
       "3  Total    10 years      Total  1999    61241\n",
       "4  Total    11 years      Total  1999    58580"
      ]
     },
     "metadata": {},
     "output_type": "display_data"
    }
   ],
   "source": [
    "params['variables'][0]['values'] = ['TOT'] \n",
    "params['variables'][2]['values'] = ['TOT'] \n",
    "BEFOLK1 = BEFOLK1_api.get_data(params=params)\n",
    "display(BEFOLK1.head())"
   ]
  },
  {
   "cell_type": "code",
   "execution_count": 28,
   "metadata": {},
   "outputs": [
    {
     "data": {
      "application/vnd.microsoft.datawrangler.viewer.v0+json": {
       "columns": [
        {
         "name": "index",
         "rawType": "int64",
         "type": "integer"
        },
        {
         "name": "year",
         "rawType": "int64",
         "type": "integer"
        },
        {
         "name": "population",
         "rawType": "int64",
         "type": "integer"
        }
       ],
       "ref": "0a0f5fe2-2239-44fa-b2bd-225f1306282c",
       "rows": [
        [
         "0",
         "1999",
         "5313577"
        ],
        [
         "101",
         "2018",
         "5781190"
        ],
        [
         "202",
         "1972",
         "4975653"
        ],
        [
         "303",
         "2008",
         "5475791"
        ],
        [
         "404",
         "1973",
         "5007538"
        ]
       ],
       "shape": {
        "columns": 2,
        "rows": 5
       }
      },
      "text/html": [
       "<div>\n",
       "<style scoped>\n",
       "    .dataframe tbody tr th:only-of-type {\n",
       "        vertical-align: middle;\n",
       "    }\n",
       "\n",
       "    .dataframe tbody tr th {\n",
       "        vertical-align: top;\n",
       "    }\n",
       "\n",
       "    .dataframe thead th {\n",
       "        text-align: right;\n",
       "    }\n",
       "</style>\n",
       "<table border=\"1\" class=\"dataframe\">\n",
       "  <thead>\n",
       "    <tr style=\"text-align: right;\">\n",
       "      <th></th>\n",
       "      <th>year</th>\n",
       "      <th>population</th>\n",
       "    </tr>\n",
       "  </thead>\n",
       "  <tbody>\n",
       "    <tr>\n",
       "      <th>0</th>\n",
       "      <td>1999</td>\n",
       "      <td>5313577</td>\n",
       "    </tr>\n",
       "    <tr>\n",
       "      <th>101</th>\n",
       "      <td>2018</td>\n",
       "      <td>5781190</td>\n",
       "    </tr>\n",
       "    <tr>\n",
       "      <th>202</th>\n",
       "      <td>1972</td>\n",
       "      <td>4975653</td>\n",
       "    </tr>\n",
       "    <tr>\n",
       "      <th>303</th>\n",
       "      <td>2008</td>\n",
       "      <td>5475791</td>\n",
       "    </tr>\n",
       "    <tr>\n",
       "      <th>404</th>\n",
       "      <td>1973</td>\n",
       "      <td>5007538</td>\n",
       "    </tr>\n",
       "  </tbody>\n",
       "</table>\n",
       "</div>"
      ],
      "text/plain": [
       "     year  population\n",
       "0    1999     5313577\n",
       "101  2018     5781190\n",
       "202  1972     4975653\n",
       "303  2008     5475791\n",
       "404  1973     5007538"
      ]
     },
     "execution_count": 28,
     "metadata": {},
     "output_type": "execute_result"
    }
   ],
   "source": [
    "BEFOLK1 = BEFOLK1.rename(columns={'TID':'year','INDHOLD':'population'})\n",
    "BEFOLK1 = BEFOLK1.drop(columns=['KØN','CIVILSTAND'])\n",
    "pop = BEFOLK1[BEFOLK1.ALDER == 'Age, total'].drop(columns=['ALDER'])\n",
    "pop.head()"
   ]
  },
  {
   "cell_type": "markdown",
   "metadata": {},
   "source": [
    "**Question a:** Merge the population and the national account data, so there is a new column called `population`. Use the **merge function**."
   ]
  },
  {
   "cell_type": "code",
   "execution_count": 29,
   "metadata": {},
   "outputs": [
    {
     "data": {
      "application/vnd.microsoft.datawrangler.viewer.v0+json": {
       "columns": [
        {
         "name": "index",
         "rawType": "int64",
         "type": "integer"
        },
        {
         "name": "variable",
         "rawType": "object",
         "type": "string"
        },
        {
         "name": "unit",
         "rawType": "object",
         "type": "string"
        },
        {
         "name": "year",
         "rawType": "int64",
         "type": "integer"
        },
        {
         "name": "value",
         "rawType": "float64",
         "type": "float"
        },
        {
         "name": "population",
         "rawType": "float64",
         "type": "float"
        }
       ],
       "ref": "ae7e7a2b-41bd-4e36-aed0-fbdd67637697",
       "rows": [
        [
         "698",
         "G",
         "nominal",
         "2024",
         "672154.0",
         "5961249.0"
        ],
        [
         "699",
         "G",
         "real",
         "2024",
         "597071.0",
         "5961249.0"
        ],
        [
         "700",
         "M",
         "nominal",
         "2024",
         "1778459.0",
         "5961249.0"
        ],
        [
         "701",
         "M",
         "real",
         "2024",
         "1424070.0",
         "5961249.0"
        ],
        [
         "702",
         "X",
         "nominal",
         "2024",
         "2078142.0",
         "5961249.0"
        ],
        [
         "703",
         "X",
         "real",
         "2024",
         "1697515.0",
         "5961249.0"
        ],
        [
         "704",
         "C",
         "nominal",
         "2024",
         "1947969.0",
         "5961249.0"
        ],
        [
         "705",
         "C",
         "real",
         "2024",
         "1704543.0",
         "5961249.0"
        ],
        [
         "706",
         "Y",
         "nominal",
         "2024",
         "5326389.0",
         "5961249.0"
        ],
        [
         "707",
         "Y",
         "real",
         "2024",
         "4552586.0",
         "5961249.0"
        ]
       ],
       "shape": {
        "columns": 5,
        "rows": 10
       }
      },
      "text/html": [
       "<div>\n",
       "<style scoped>\n",
       "    .dataframe tbody tr th:only-of-type {\n",
       "        vertical-align: middle;\n",
       "    }\n",
       "\n",
       "    .dataframe tbody tr th {\n",
       "        vertical-align: top;\n",
       "    }\n",
       "\n",
       "    .dataframe thead th {\n",
       "        text-align: right;\n",
       "    }\n",
       "</style>\n",
       "<table border=\"1\" class=\"dataframe\">\n",
       "  <thead>\n",
       "    <tr style=\"text-align: right;\">\n",
       "      <th></th>\n",
       "      <th>variable</th>\n",
       "      <th>unit</th>\n",
       "      <th>year</th>\n",
       "      <th>value</th>\n",
       "      <th>population</th>\n",
       "    </tr>\n",
       "  </thead>\n",
       "  <tbody>\n",
       "    <tr>\n",
       "      <th>698</th>\n",
       "      <td>G</td>\n",
       "      <td>nominal</td>\n",
       "      <td>2024</td>\n",
       "      <td>672154.0</td>\n",
       "      <td>5961249.0</td>\n",
       "    </tr>\n",
       "    <tr>\n",
       "      <th>699</th>\n",
       "      <td>G</td>\n",
       "      <td>real</td>\n",
       "      <td>2024</td>\n",
       "      <td>597071.0</td>\n",
       "      <td>5961249.0</td>\n",
       "    </tr>\n",
       "    <tr>\n",
       "      <th>700</th>\n",
       "      <td>M</td>\n",
       "      <td>nominal</td>\n",
       "      <td>2024</td>\n",
       "      <td>1778459.0</td>\n",
       "      <td>5961249.0</td>\n",
       "    </tr>\n",
       "    <tr>\n",
       "      <th>701</th>\n",
       "      <td>M</td>\n",
       "      <td>real</td>\n",
       "      <td>2024</td>\n",
       "      <td>1424070.0</td>\n",
       "      <td>5961249.0</td>\n",
       "    </tr>\n",
       "    <tr>\n",
       "      <th>702</th>\n",
       "      <td>X</td>\n",
       "      <td>nominal</td>\n",
       "      <td>2024</td>\n",
       "      <td>2078142.0</td>\n",
       "      <td>5961249.0</td>\n",
       "    </tr>\n",
       "    <tr>\n",
       "      <th>703</th>\n",
       "      <td>X</td>\n",
       "      <td>real</td>\n",
       "      <td>2024</td>\n",
       "      <td>1697515.0</td>\n",
       "      <td>5961249.0</td>\n",
       "    </tr>\n",
       "    <tr>\n",
       "      <th>704</th>\n",
       "      <td>C</td>\n",
       "      <td>nominal</td>\n",
       "      <td>2024</td>\n",
       "      <td>1947969.0</td>\n",
       "      <td>5961249.0</td>\n",
       "    </tr>\n",
       "    <tr>\n",
       "      <th>705</th>\n",
       "      <td>C</td>\n",
       "      <td>real</td>\n",
       "      <td>2024</td>\n",
       "      <td>1704543.0</td>\n",
       "      <td>5961249.0</td>\n",
       "    </tr>\n",
       "    <tr>\n",
       "      <th>706</th>\n",
       "      <td>Y</td>\n",
       "      <td>nominal</td>\n",
       "      <td>2024</td>\n",
       "      <td>5326389.0</td>\n",
       "      <td>5961249.0</td>\n",
       "    </tr>\n",
       "    <tr>\n",
       "      <th>707</th>\n",
       "      <td>Y</td>\n",
       "      <td>real</td>\n",
       "      <td>2024</td>\n",
       "      <td>4552586.0</td>\n",
       "      <td>5961249.0</td>\n",
       "    </tr>\n",
       "  </tbody>\n",
       "</table>\n",
       "</div>"
      ],
      "text/plain": [
       "    variable     unit  year      value  population\n",
       "698        G  nominal  2024   672154.0   5961249.0\n",
       "699        G     real  2024   597071.0   5961249.0\n",
       "700        M  nominal  2024  1778459.0   5961249.0\n",
       "701        M     real  2024  1424070.0   5961249.0\n",
       "702        X  nominal  2024  2078142.0   5961249.0\n",
       "703        X     real  2024  1697515.0   5961249.0\n",
       "704        C  nominal  2024  1947969.0   5961249.0\n",
       "705        C     real  2024  1704543.0   5961249.0\n",
       "706        Y  nominal  2024  5326389.0   5961249.0\n",
       "707        Y     real  2024  4552586.0   5961249.0"
      ]
     },
     "execution_count": 29,
     "metadata": {},
     "output_type": "execute_result"
    }
   ],
   "source": [
    "# Merging the two datasets on year, using a left join to keep all rows from nah1\n",
    "# and only those from pop that match on year\n",
    "merged = pd.merge(nah1,pop,how='left',on=['year'])\n",
    "merged.tail(10)"
   ]
  },
  {
   "cell_type": "markdown",
   "metadata": {},
   "source": [
    "**Question b:** Merge the population on again, so there is a new column called `population_alt`. Use the **join method**."
   ]
  },
  {
   "cell_type": "code",
   "execution_count": 30,
   "metadata": {},
   "outputs": [
    {
     "data": {
      "application/vnd.microsoft.datawrangler.viewer.v0+json": {
       "columns": [
        {
         "name": "year",
         "rawType": "int64",
         "type": "integer"
        },
        {
         "name": "variable",
         "rawType": "object",
         "type": "string"
        },
        {
         "name": "unit",
         "rawType": "object",
         "type": "string"
        },
        {
         "name": "value",
         "rawType": "float64",
         "type": "float"
        },
        {
         "name": "population",
         "rawType": "float64",
         "type": "float"
        },
        {
         "name": "population_alt",
         "rawType": "float64",
         "type": "float"
        }
       ],
       "ref": "3b00944a-b334-44bf-9892-7d36c815dffa",
       "rows": [
        [
         "2024",
         "G",
         "nominal",
         "672154.0",
         "5961249.0",
         "5961249.0"
        ],
        [
         "2024",
         "G",
         "real",
         "597071.0",
         "5961249.0",
         "5961249.0"
        ],
        [
         "2024",
         "M",
         "nominal",
         "1778459.0",
         "5961249.0",
         "5961249.0"
        ],
        [
         "2024",
         "M",
         "real",
         "1424070.0",
         "5961249.0",
         "5961249.0"
        ],
        [
         "2024",
         "X",
         "nominal",
         "2078142.0",
         "5961249.0",
         "5961249.0"
        ],
        [
         "2024",
         "X",
         "real",
         "1697515.0",
         "5961249.0",
         "5961249.0"
        ],
        [
         "2024",
         "C",
         "nominal",
         "1947969.0",
         "5961249.0",
         "5961249.0"
        ],
        [
         "2024",
         "C",
         "real",
         "1704543.0",
         "5961249.0",
         "5961249.0"
        ],
        [
         "2024",
         "Y",
         "nominal",
         "5326389.0",
         "5961249.0",
         "5961249.0"
        ],
        [
         "2024",
         "Y",
         "real",
         "4552586.0",
         "5961249.0",
         "5961249.0"
        ]
       ],
       "shape": {
        "columns": 5,
        "rows": 10
       }
      },
      "text/html": [
       "<div>\n",
       "<style scoped>\n",
       "    .dataframe tbody tr th:only-of-type {\n",
       "        vertical-align: middle;\n",
       "    }\n",
       "\n",
       "    .dataframe tbody tr th {\n",
       "        vertical-align: top;\n",
       "    }\n",
       "\n",
       "    .dataframe thead th {\n",
       "        text-align: right;\n",
       "    }\n",
       "</style>\n",
       "<table border=\"1\" class=\"dataframe\">\n",
       "  <thead>\n",
       "    <tr style=\"text-align: right;\">\n",
       "      <th></th>\n",
       "      <th>variable</th>\n",
       "      <th>unit</th>\n",
       "      <th>value</th>\n",
       "      <th>population</th>\n",
       "      <th>population_alt</th>\n",
       "    </tr>\n",
       "    <tr>\n",
       "      <th>year</th>\n",
       "      <th></th>\n",
       "      <th></th>\n",
       "      <th></th>\n",
       "      <th></th>\n",
       "      <th></th>\n",
       "    </tr>\n",
       "  </thead>\n",
       "  <tbody>\n",
       "    <tr>\n",
       "      <th>2024</th>\n",
       "      <td>G</td>\n",
       "      <td>nominal</td>\n",
       "      <td>672154.0</td>\n",
       "      <td>5961249.0</td>\n",
       "      <td>5961249.0</td>\n",
       "    </tr>\n",
       "    <tr>\n",
       "      <th>2024</th>\n",
       "      <td>G</td>\n",
       "      <td>real</td>\n",
       "      <td>597071.0</td>\n",
       "      <td>5961249.0</td>\n",
       "      <td>5961249.0</td>\n",
       "    </tr>\n",
       "    <tr>\n",
       "      <th>2024</th>\n",
       "      <td>M</td>\n",
       "      <td>nominal</td>\n",
       "      <td>1778459.0</td>\n",
       "      <td>5961249.0</td>\n",
       "      <td>5961249.0</td>\n",
       "    </tr>\n",
       "    <tr>\n",
       "      <th>2024</th>\n",
       "      <td>M</td>\n",
       "      <td>real</td>\n",
       "      <td>1424070.0</td>\n",
       "      <td>5961249.0</td>\n",
       "      <td>5961249.0</td>\n",
       "    </tr>\n",
       "    <tr>\n",
       "      <th>2024</th>\n",
       "      <td>X</td>\n",
       "      <td>nominal</td>\n",
       "      <td>2078142.0</td>\n",
       "      <td>5961249.0</td>\n",
       "      <td>5961249.0</td>\n",
       "    </tr>\n",
       "    <tr>\n",
       "      <th>2024</th>\n",
       "      <td>X</td>\n",
       "      <td>real</td>\n",
       "      <td>1697515.0</td>\n",
       "      <td>5961249.0</td>\n",
       "      <td>5961249.0</td>\n",
       "    </tr>\n",
       "    <tr>\n",
       "      <th>2024</th>\n",
       "      <td>C</td>\n",
       "      <td>nominal</td>\n",
       "      <td>1947969.0</td>\n",
       "      <td>5961249.0</td>\n",
       "      <td>5961249.0</td>\n",
       "    </tr>\n",
       "    <tr>\n",
       "      <th>2024</th>\n",
       "      <td>C</td>\n",
       "      <td>real</td>\n",
       "      <td>1704543.0</td>\n",
       "      <td>5961249.0</td>\n",
       "      <td>5961249.0</td>\n",
       "    </tr>\n",
       "    <tr>\n",
       "      <th>2024</th>\n",
       "      <td>Y</td>\n",
       "      <td>nominal</td>\n",
       "      <td>5326389.0</td>\n",
       "      <td>5961249.0</td>\n",
       "      <td>5961249.0</td>\n",
       "    </tr>\n",
       "    <tr>\n",
       "      <th>2024</th>\n",
       "      <td>Y</td>\n",
       "      <td>real</td>\n",
       "      <td>4552586.0</td>\n",
       "      <td>5961249.0</td>\n",
       "      <td>5961249.0</td>\n",
       "    </tr>\n",
       "  </tbody>\n",
       "</table>\n",
       "</div>"
      ],
      "text/plain": [
       "     variable     unit      value  population  population_alt\n",
       "year                                                         \n",
       "2024        G  nominal   672154.0   5961249.0       5961249.0\n",
       "2024        G     real   597071.0   5961249.0       5961249.0\n",
       "2024        M  nominal  1778459.0   5961249.0       5961249.0\n",
       "2024        M     real  1424070.0   5961249.0       5961249.0\n",
       "2024        X  nominal  2078142.0   5961249.0       5961249.0\n",
       "2024        X     real  1697515.0   5961249.0       5961249.0\n",
       "2024        C  nominal  1947969.0   5961249.0       5961249.0\n",
       "2024        C     real  1704543.0   5961249.0       5961249.0\n",
       "2024        Y  nominal  5326389.0   5961249.0       5961249.0\n",
       "2024        Y     real  4552586.0   5961249.0       5961249.0"
      ]
     },
     "execution_count": 30,
     "metadata": {},
     "output_type": "execute_result"
    }
   ],
   "source": [
    "# Make the year the index and rename the population column to population_alt\n",
    "pop_with_index = pop.set_index('year')\n",
    "pop_with_index = pop_with_index.rename(columns={'population':'population_alt'})\n",
    "\n",
    "# Make the year the index for the merged DataFrame\n",
    "merged_with_index = merged.set_index('year')\n",
    "\n",
    "# Since the two DataFrames have the same index, we can use the join method to merge them\n",
    "merged_alt = merged_with_index.join(pop_with_index)\n",
    "merged_alt.tail(10)"
   ]
  },
  {
   "cell_type": "markdown",
   "metadata": {},
   "source": [
    "**Question c:** Plot GDP per capita and GDP per working-age (18-65) using the code below as a starting point."
   ]
  },
  {
   "cell_type": "code",
   "execution_count": 31,
   "metadata": {},
   "outputs": [
    {
     "data": {
      "text/plain": [
       "<matplotlib.legend.Legend at 0x21c69129d30>"
      ]
     },
     "execution_count": 31,
     "metadata": {},
     "output_type": "execute_result"
    },
    {
     "data": {
      "image/png": "[encoded data removed]",
      "text/plain": [
       "<Figure size 640x480 with 1 Axes>"
      ]
     },
     "metadata": {},
     "output_type": "display_data"
    }
   ],
   "source": [
    "# As BEFOLK1.ALDER is a string variable,\n",
    "# we use list comprehension to create a list of strings with the age and years\n",
    "# Try looking at the dataframe Befolk1 to understand the format\n",
    "ages = [f\"{age} years\" for age in range(18, 66)]\n",
    "\n",
    "# Compute the working age population each year\n",
    "# Read the code as: from BEFOLK1, keep only keep the rows in the list 'ages',\n",
    "# then group by year and sum the population for each year\n",
    "working_pop = BEFOLK1[BEFOLK1.ALDER.isin(ages)].groupby('year').sum()\n",
    "\n",
    "# Clean up the dataframe a bit, see if you can understand what each line does\n",
    "working_pop = working_pop.drop(columns=['ALDER'])\n",
    "working_pop = working_pop.rename(columns={'population':'working_population'})\n",
    "\n",
    "# Merge everything so far together\n",
    "merged = pd.merge(nah1, working_pop, how='left', on=['year'])\n",
    "merged = pd.merge(merged, pop, how='left', on=['year'])\n",
    "\n",
    "# Plot the time series of GDP per capita and GDP per working age capita\n",
    "# First we need to compute these variables\n",
    "fig = plt.figure()\n",
    "ax = fig.add_subplot(1,1,1)\n",
    "\n",
    "# Compute the per capita value for all values in the dataframe\n",
    "merged['value_pop'] = merged.value/merged.population\n",
    "merged['value_working_pop'] = merged.value/merged.working_population\n",
    "\n",
    "# Create filter for real GDP only\n",
    "I = merged.unit == 'real' \n",
    "I &= merged.variable == 'Y' \n",
    "\n",
    "# Create new dataframe only with real GDP and with year as index for plotting\n",
    "df = merged[I].set_index('year')\n",
    "\n",
    "# Plot both series\n",
    "ax.plot(df.value_pop, label='per capita')\n",
    "ax.plot(df.value_working_pop, label='per working-age')\n",
    "\n",
    "ax.legend()\n"
   ]
  },
  {
   "cell_type": "markdown",
   "metadata": {},
   "source": [
    "### 2.3. <a id='toc2_3_'></a>[Split-apply-combine-plot](#toc0_)"
   ]
  },
  {
   "cell_type": "markdown",
   "metadata": {},
   "source": [
    "Ensure the following code for a **split-apply-combine-plot** can run."
   ]
  },
  {
   "cell_type": "code",
   "execution_count": 32,
   "metadata": {},
   "outputs": [
    {
     "data": {
      "image/png": "[encoded data removed]",
      "text/plain": [
       "<Figure size 640x480 with 1 Axes>"
      ]
     },
     "metadata": {},
     "output_type": "display_data"
    }
   ],
   "source": [
    "# a. split\n",
    "nah1_grouped = nah1.groupby(['variable','unit'])\n",
    "nah1_grouped_first = nah1_grouped.value.first()\n",
    "nah1_grouped_first.name = 'first'\n",
    "# We get the first value for each variable and unit combination\n",
    "\n",
    "# b. apply\n",
    "nah1_new = nah1.set_index(['variable','unit','year'])\n",
    "nah1_new = nah1_new.join(nah1_grouped_first,how='left',on=['variable','unit'])\n",
    "nah1_new = nah1_new.reset_index()\n",
    "# Join the first value to each row based on variable and unit, then reset the index\n",
    "# I use a different name so the original stays the same\n",
    "\n",
    "# c. combine\n",
    "nah1_new['indexed'] = nah1_new['value']/nah1_new['first']\n",
    "# Create the indexed variable with the first value as base year\n",
    "\n",
    "# d. plot\n",
    "def plot(df,variable='indexed'):\n",
    "    df_indexed = df.set_index('year')\n",
    "    I = df_indexed.unit == 'real'\n",
    "    df_indexed[I].groupby(['variable'])[variable].plot(legend=True);\n",
    "\n",
    "plot(nah1_new)"
   ]
  },
  {
   "cell_type": "markdown",
   "metadata": {},
   "source": [
    "**Question:** Implement the same split-apply-combine as above using `transform`."
   ]
  },
  {
   "cell_type": "code",
   "execution_count": 33,
   "metadata": {},
   "outputs": [
    {
     "data": {
      "application/vnd.microsoft.datawrangler.viewer.v0+json": {
       "columns": [
        {
         "name": "index",
         "rawType": "int64",
         "type": "integer"
        },
        {
         "name": "variable",
         "rawType": "object",
         "type": "string"
        },
        {
         "name": "unit",
         "rawType": "object",
         "type": "string"
        },
        {
         "name": "year",
         "rawType": "int64",
         "type": "integer"
        },
        {
         "name": "value",
         "rawType": "float64",
         "type": "float"
        },
        {
         "name": "index_transform",
         "rawType": "float64",
         "type": "float"
        }
       ],
       "ref": "31573adb-fd4b-431a-b70b-0f5d8e1fe0ac",
       "rows": [
        [
         "1964",
         "X",
         "real",
         "1966",
         "129917.0",
         "1.0"
        ],
        [
         "1965",
         "X",
         "nominal",
         "1966",
         "23110.0",
         "1.0"
        ],
        [
         "1970",
         "M",
         "real",
         "1966",
         "116721.0",
         "1.0"
        ],
        [
         "1971",
         "M",
         "nominal",
         "1966",
         "24406.0",
         "1.0"
        ],
        [
         "1945",
         "G",
         "nominal",
         "1966",
         "14768.0",
         "1.0"
        ]
       ],
       "shape": {
        "columns": 5,
        "rows": 5
       }
      },
      "text/html": [
       "<div>\n",
       "<style scoped>\n",
       "    .dataframe tbody tr th:only-of-type {\n",
       "        vertical-align: middle;\n",
       "    }\n",
       "\n",
       "    .dataframe tbody tr th {\n",
       "        vertical-align: top;\n",
       "    }\n",
       "\n",
       "    .dataframe thead th {\n",
       "        text-align: right;\n",
       "    }\n",
       "</style>\n",
       "<table border=\"1\" class=\"dataframe\">\n",
       "  <thead>\n",
       "    <tr style=\"text-align: right;\">\n",
       "      <th></th>\n",
       "      <th>variable</th>\n",
       "      <th>unit</th>\n",
       "      <th>year</th>\n",
       "      <th>value</th>\n",
       "      <th>index_transform</th>\n",
       "    </tr>\n",
       "  </thead>\n",
       "  <tbody>\n",
       "    <tr>\n",
       "      <th>1964</th>\n",
       "      <td>X</td>\n",
       "      <td>real</td>\n",
       "      <td>1966</td>\n",
       "      <td>129917.0</td>\n",
       "      <td>1.0</td>\n",
       "    </tr>\n",
       "    <tr>\n",
       "      <th>1965</th>\n",
       "      <td>X</td>\n",
       "      <td>nominal</td>\n",
       "      <td>1966</td>\n",
       "      <td>23110.0</td>\n",
       "      <td>1.0</td>\n",
       "    </tr>\n",
       "    <tr>\n",
       "      <th>1970</th>\n",
       "      <td>M</td>\n",
       "      <td>real</td>\n",
       "      <td>1966</td>\n",
       "      <td>116721.0</td>\n",
       "      <td>1.0</td>\n",
       "    </tr>\n",
       "    <tr>\n",
       "      <th>1971</th>\n",
       "      <td>M</td>\n",
       "      <td>nominal</td>\n",
       "      <td>1966</td>\n",
       "      <td>24406.0</td>\n",
       "      <td>1.0</td>\n",
       "    </tr>\n",
       "    <tr>\n",
       "      <th>1945</th>\n",
       "      <td>G</td>\n",
       "      <td>nominal</td>\n",
       "      <td>1966</td>\n",
       "      <td>14768.0</td>\n",
       "      <td>1.0</td>\n",
       "    </tr>\n",
       "  </tbody>\n",
       "</table>\n",
       "</div>"
      ],
      "text/plain": [
       "     variable     unit  year     value  index_transform\n",
       "1964        X     real  1966  129917.0              1.0\n",
       "1965        X  nominal  1966   23110.0              1.0\n",
       "1970        M     real  1966  116721.0              1.0\n",
       "1971        M  nominal  1966   24406.0              1.0\n",
       "1945        G  nominal  1966   14768.0              1.0"
      ]
     },
     "execution_count": 33,
     "metadata": {},
     "output_type": "execute_result"
    }
   ],
   "source": [
    "def first(x): # select the first element in a series\n",
    "    return x.iloc[0]\n",
    "\n",
    "nah1_alt = nah1.copy()\n",
    "grouped = nah1_alt.groupby(['variable','unit'])\n",
    "nah1_alt['index_transform'] = grouped['value'].transform(lambda x: x/first(x))\n",
    "# Using transform we can create the indexed variable directly without needing to join first values\n",
    "# Using transform and the lambda function we apply the function to each group and \n",
    "# return a series with the same index and length as the original\n",
    "nah1_alt.head()"
   ]
  },
  {
   "cell_type": "code",
   "execution_count": 34,
   "metadata": {},
   "outputs": [
    {
     "data": {
      "image/png": "[encoded data removed]",
      "text/plain": [
       "<Figure size 640x480 with 1 Axes>"
      ]
     },
     "metadata": {},
     "output_type": "display_data"
    }
   ],
   "source": [
    "plot(nah1_alt,variable='index_transform')"
   ]
  },
  {
   "cell_type": "code",
   "execution_count": null,
   "metadata": {},
   "outputs": [],
   "source": []
  }
 ],
 "metadata": {
  "kernelspec": {
   "display_name": "base",
   "language": "python",
   "name": "python3"
  },
  "language_info": {
   "codemirror_mode": {
    "name": "ipython",
    "version": 3
   },
   "file_extension": ".py",
   "mimetype": "text/x-python",
   "name": "python",
   "nbconvert_exporter": "python",
   "pygments_lexer": "ipython3",
   "version": "3.13.5"
  },
  "toc-autonumbering": true
 },
 "nbformat": 4,
 "nbformat_minor": 4
}
